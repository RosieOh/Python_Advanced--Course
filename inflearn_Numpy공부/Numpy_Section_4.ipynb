{
 "cells": [
  {
   "cell_type": "markdown",
   "id": "4dc3aeeb",
   "metadata": {},
   "source": [
    "# Section 4. N차원 배열 정렬"
   ]
  },
  {
   "cell_type": "markdown",
   "id": "079b6324",
   "metadata": {},
   "source": [
    "### 4-1. 1차원 배열의 정렬"
   ]
  },
  {
   "cell_type": "code",
   "execution_count": 2,
   "id": "20962cdf",
   "metadata": {},
   "outputs": [],
   "source": [
    "import numpy as np"
   ]
  },
  {
   "cell_type": "code",
   "execution_count": 3,
   "id": "28c0eb83",
   "metadata": {},
   "outputs": [
    {
     "name": "stdout",
     "output_type": "stream",
     "text": [
      "[1 0 6 0 1 6 8 5 8 1]\n"
     ]
    }
   ],
   "source": [
    "arr = np.random.randint(10, size = 10)\n",
    "print(arr)"
   ]
  },
  {
   "cell_type": "code",
   "execution_count": 4,
   "id": "3af57931",
   "metadata": {},
   "outputs": [
    {
     "name": "stdout",
     "output_type": "stream",
     "text": [
      "[0 0 1 1 1 5 6 6 8 8]\n",
      "[8 8 6 6 5 1 1 1 0 0]\n"
     ]
    }
   ],
   "source": [
    "print(np.sort(arr))\n",
    "print(np.sort(arr)[::-1]) # [::] : 처음부터 끝까지"
   ]
  },
  {
   "cell_type": "code",
   "execution_count": 5,
   "id": "d095e58a",
   "metadata": {},
   "outputs": [
    {
     "name": "stdout",
     "output_type": "stream",
     "text": [
      "[0 0 1 1 1 5 6 6 8 8]\n"
     ]
    }
   ],
   "source": [
    "arr.sort()\n",
    "print(arr)"
   ]
  },
  {
   "cell_type": "markdown",
   "id": "896cd9fc",
   "metadata": {},
   "source": [
    "### 4-2. 2차원 배열의 정렬"
   ]
  },
  {
   "cell_type": "code",
   "execution_count": 6,
   "id": "a915d706",
   "metadata": {},
   "outputs": [
    {
     "name": "stdout",
     "output_type": "stream",
     "text": [
      "[[ 2  2 10 14]\n",
      " [10 13  1 10]\n",
      " [ 7 11  4 11]]\n"
     ]
    }
   ],
   "source": [
    "arr = np.random.randint(15, size=(3, 4))\n",
    "print(arr)"
   ]
  },
  {
   "cell_type": "code",
   "execution_count": 10,
   "id": "8b334e79",
   "metadata": {},
   "outputs": [
    {
     "name": "stdout",
     "output_type": "stream",
     "text": [
      "[ 1  2  2  4  7 10 10 10 11 11 13 14]\n"
     ]
    }
   ],
   "source": [
    "print(np.sort(arr, axis=None))"
   ]
  },
  {
   "cell_type": "code",
   "execution_count": 12,
   "id": "e007dbbc",
   "metadata": {},
   "outputs": [
    {
     "name": "stdout",
     "output_type": "stream",
     "text": [
      "[[ 2  2  1 10]\n",
      " [ 7 11  4 11]\n",
      " [10 13 10 14]]\n",
      "[[0 0 1 1]\n",
      " [2 2 2 2]\n",
      " [1 1 0 0]]\n"
     ]
    }
   ],
   "source": [
    "# argsort()\n",
    "print(np.sort(arr, axis = 0))\n",
    "print(np.argsort(arr, axis = 0))"
   ]
  }
 ],
 "metadata": {
  "kernelspec": {
   "display_name": "Python 3.7.0 64-bit ('test1': conda)",
   "language": "python",
   "name": "python370jvsc74a57bd01486d7e90339fae6c5b3e5484bedca569f2c9cafabf4c8b3bf849689424eb737"
  },
  "language_info": {
   "codemirror_mode": {
    "name": "ipython",
    "version": 3
   },
   "file_extension": ".py",
   "mimetype": "text/x-python",
   "name": "python",
   "nbconvert_exporter": "python",
   "pygments_lexer": "ipython3",
   "version": "3.7.0"
  }
 },
 "nbformat": 4,
 "nbformat_minor": 5
}
