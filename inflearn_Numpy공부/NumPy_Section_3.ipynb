{
 "cells": [
  {
   "cell_type": "markdown",
   "id": "7ce760ee",
   "metadata": {},
   "source": [
    "# Section 3. N차원 배열 연산법"
   ]
  },
  {
   "cell_type": "markdown",
   "id": "f0b49303",
   "metadata": {},
   "source": [
    "### 3-1. 배열의 연산1 : 사칙연산/제곱/제곱근/몫/나머지"
   ]
  },
  {
   "cell_type": "code",
   "execution_count": 2,
   "id": "5ea6391a",
   "metadata": {},
   "outputs": [],
   "source": [
    "import numpy as np"
   ]
  },
  {
   "cell_type": "code",
   "execution_count": 3,
   "id": "258357be",
   "metadata": {},
   "outputs": [
    {
     "name": "stdout",
     "output_type": "stream",
     "text": [
      "[[1 2 3]\n",
      " [4 5 6]\n",
      " [7 8 9]]\n",
      "[[2 2 2]\n",
      " [2 2 2]\n",
      " [2 2 2]]\n"
     ]
    }
   ],
   "source": [
    "arr1 = np.array([[1, 2, 3],\n",
    "                 [4, 5, 6],\n",
    "                 [7, 8, 9]])\n",
    "arr2 = np.array([[2, 2, 2],\n",
    "                 [2, 2, 2],\n",
    "                 [2, 2, 2]])\n",
    "print(arr1)\n",
    "print(arr2)"
   ]
  },
  {
   "cell_type": "code",
   "execution_count": 4,
   "id": "b67b4f40",
   "metadata": {},
   "outputs": [
    {
     "name": "stdout",
     "output_type": "stream",
     "text": [
      "[[ 3  4  5]\n",
      " [ 6  7  8]\n",
      " [ 9 10 11]]\n",
      "[[ 3  4  5]\n",
      " [ 6  7  8]\n",
      " [ 9 10 11]]\n"
     ]
    }
   ],
   "source": [
    "# 덧셈\n",
    "print(arr1 + arr2)\n",
    "print(np.add(arr1, arr2))"
   ]
  },
  {
   "cell_type": "code",
   "execution_count": 5,
   "id": "ba4a520e",
   "metadata": {},
   "outputs": [
    {
     "name": "stdout",
     "output_type": "stream",
     "text": [
      "[[-1  0  1]\n",
      " [ 2  3  4]\n",
      " [ 5  6  7]]\n",
      "[[-1  0  1]\n",
      " [ 2  3  4]\n",
      " [ 5  6  7]]\n"
     ]
    }
   ],
   "source": [
    "# 뺄셈\n",
    "print(arr1 - arr2)\n",
    "print(np.subtract(arr1, arr2))"
   ]
  },
  {
   "cell_type": "code",
   "execution_count": 6,
   "id": "1ad36a9e",
   "metadata": {},
   "outputs": [
    {
     "name": "stdout",
     "output_type": "stream",
     "text": [
      "[[ 2  4  6]\n",
      " [ 8 10 12]\n",
      " [14 16 18]]\n",
      "[[ 2  4  6]\n",
      " [ 8 10 12]\n",
      " [14 16 18]]\n"
     ]
    }
   ],
   "source": [
    "# 곱셈\n",
    "print(arr1 * arr2)\n",
    "print(np.multiply(arr1, arr2))"
   ]
  },
  {
   "cell_type": "code",
   "execution_count": 7,
   "id": "79ddc1ae",
   "metadata": {},
   "outputs": [
    {
     "name": "stdout",
     "output_type": "stream",
     "text": [
      "[[0.5 1.  1.5]\n",
      " [2.  2.5 3. ]\n",
      " [3.5 4.  4.5]]\n",
      "[[0.5 1.  1.5]\n",
      " [2.  2.5 3. ]\n",
      " [3.5 4.  4.5]]\n"
     ]
    }
   ],
   "source": [
    "# 나눗셈\n",
    "print(arr1 / arr2)\n",
    "print(np.divide(arr1, arr2))"
   ]
  },
  {
   "cell_type": "code",
   "execution_count": 9,
   "id": "cade3235",
   "metadata": {},
   "outputs": [
    {
     "name": "stdout",
     "output_type": "stream",
     "text": [
      "[[    1    32   243]\n",
      " [ 1024  3125  7776]\n",
      " [16807 32768 59049]]\n",
      "[[ 1  4  9]\n",
      " [16 25 36]\n",
      " [49 64 81]]\n",
      "[[1.         1.41421356 1.73205081]\n",
      " [2.         2.23606798 2.44948974]\n",
      " [2.64575131 2.82842712 3.        ]]\n"
     ]
    }
   ],
   "source": [
    "# 제곱\n",
    "arr1 = np.array([[1, 2, 3],\n",
    "                 [4, 5, 6],\n",
    "                 [7, 8, 9]])\n",
    "arr2 = np.array([[2, 2, 2],\n",
    "                 [2, 2, 2],\n",
    "                 [2, 2, 2]])\n",
    "\n",
    "print(arr1 ** 5)\n",
    "print(np.square(arr1))\n",
    "\n",
    "# 제곱근\n",
    "print(np.sqrt(arr1))"
   ]
  },
  {
   "cell_type": "code",
   "execution_count": 10,
   "id": "ba1adaff",
   "metadata": {},
   "outputs": [
    {
     "name": "stdout",
     "output_type": "stream",
     "text": [
      "[[0 1 1]\n",
      " [2 2 3]\n",
      " [3 4 4]]\n",
      "[[1 0 1]\n",
      " [0 1 0]\n",
      " [1 0 1]]\n"
     ]
    }
   ],
   "source": [
    "# 몫\n",
    "print(arr1 // 2)\n",
    "\n",
    "# 나머지\n",
    "print(arr1 % 2)"
   ]
  },
  {
   "cell_type": "markdown",
   "id": "e1ba034f",
   "metadata": {},
   "source": [
    "### 3-2. 배열의 연산2 : 내적(dot product)/절댓값/올림/내림/반올림/버림"
   ]
  },
  {
   "cell_type": "markdown",
   "id": "f5a8a039",
   "metadata": {},
   "source": [
    "#### =두 벡터, 즉, 두 행렬을 곱했을 때 그 값이 스칼라 값이 나오는 경우"
   ]
  },
  {
   "cell_type": "code",
   "execution_count": 11,
   "id": "81daa4de",
   "metadata": {},
   "outputs": [
    {
     "name": "stdout",
     "output_type": "stream",
     "text": [
      "20\n"
     ]
    }
   ],
   "source": [
    "# 1차원 행렬\n",
    "arr1 = np.array([2, 3, 4])\n",
    "arr2 = np.array([1, 2, 3])\n",
    "\n",
    "print(np.dot(arr1, arr2))"
   ]
  },
  {
   "cell_type": "code",
   "execution_count": 12,
   "id": "4db24220",
   "metadata": {},
   "outputs": [
    {
     "name": "stdout",
     "output_type": "stream",
     "text": [
      "[[ 1  8]\n",
      " [ 4 23]]\n"
     ]
    }
   ],
   "source": [
    "# 2차원 행렬\n",
    "'''\n",
    "[[a, b]  [e, f]     [[ae + bg, af + bh]\n",
    " [c, d]   [g, h]] => [ce + df, cf + dh]]\n",
    "'''\n",
    "\n",
    "arr1 = np.array([[1, 2],\n",
    "                 [4, 5]])\n",
    "arr2 = np.array([[1, 2],\n",
    "                 [0, 3]])\n",
    "print(np.dot(arr1, arr2))"
   ]
  },
  {
   "cell_type": "code",
   "execution_count": 13,
   "id": "c5716d12",
   "metadata": {},
   "outputs": [
    {
     "name": "stdout",
     "output_type": "stream",
     "text": [
      "[[1 2]\n",
      " [4 5]]\n"
     ]
    }
   ],
   "source": [
    "# 절댓값\n",
    "arr1 = np.array([[1, -2],\n",
    "                 [-4, 5]])\n",
    "print(np.abs(arr1))"
   ]
  },
  {
   "cell_type": "code",
   "execution_count": 17,
   "id": "e52ce5b3",
   "metadata": {},
   "outputs": [
    {
     "name": "stdout",
     "output_type": "stream",
     "text": [
      "[[ 2. -2.]\n",
      " [-4.  6.]]\n",
      "[[ 1. -3.]\n",
      " [-5.  5.]]\n",
      "[[ 2. -2.]\n",
      " [-4.  5.]]\n",
      "[[ 1. -2.]\n",
      " [-4.  5.]]\n"
     ]
    }
   ],
   "source": [
    "# 올림\n",
    "arr1 = np.array([[1.932, -2.339],\n",
    "                 [-4.145, 5.206]])\n",
    "print(np.ceil(arr1))\n",
    "\n",
    "# 내림\n",
    "print(np.floor(arr1))\n",
    "\n",
    "# 반올림\n",
    "print(np.round(arr1))\n",
    "\n",
    "# 버림\n",
    "print(np.trunc(arr1))"
   ]
  },
  {
   "cell_type": "markdown",
   "id": "b79993de",
   "metadata": {},
   "source": [
    "### 3-3. 배열의 연산3 : min/max/sum/mean/std/cumsum/median"
   ]
  },
  {
   "cell_type": "code",
   "execution_count": 18,
   "id": "f6f17751",
   "metadata": {},
   "outputs": [],
   "source": [
    "arr = np.array([[1, 2, 3],\n",
    "                [0, 1, 4]])"
   ]
  },
  {
   "cell_type": "code",
   "execution_count": 22,
   "id": "40b1b9b9",
   "metadata": {},
   "outputs": [
    {
     "name": "stdout",
     "output_type": "stream",
     "text": [
      "0\n",
      "0\n",
      "[1 0]\n"
     ]
    }
   ],
   "source": [
    "# min()\n",
    "print(np.min(arr))\n",
    "print(arr.min())\n",
    "print(arr.min(axis=1))"
   ]
  },
  {
   "cell_type": "code",
   "execution_count": 23,
   "id": "f6ba2c4f",
   "metadata": {},
   "outputs": [
    {
     "name": "stdout",
     "output_type": "stream",
     "text": [
      "4\n",
      "[3 4]\n"
     ]
    }
   ],
   "source": [
    "# max()\n",
    "print(np.max(arr))\n",
    "print(arr.max(axis=1))"
   ]
  },
  {
   "cell_type": "code",
   "execution_count": 26,
   "id": "75acf4ed",
   "metadata": {},
   "outputs": [
    {
     "name": "stdout",
     "output_type": "stream",
     "text": [
      "11\n",
      "[6 5]\n",
      "1.8333333333333333\n",
      "[2.         1.66666667]\n"
     ]
    }
   ],
   "source": [
    "# sum()\n",
    "print(np.sum(arr))\n",
    "print(arr.sum(axis=1))\n",
    "\n",
    "# mean()\n",
    "print(np.mean(arr))\n",
    "print(arr.mean(axis=1))"
   ]
  },
  {
   "cell_type": "code",
   "execution_count": 32,
   "id": "31e1c2b3",
   "metadata": {},
   "outputs": [
    {
     "name": "stdout",
     "output_type": "stream",
     "text": [
      "1.343709624716425\n",
      "[0.5 0.5 0.5]\n",
      "[ 1  3  6  6  7 11]\n",
      "[ 1  3  6  6  7 11]\n",
      "[[1 2 3]\n",
      " [1 3 7]]\n"
     ]
    }
   ],
   "source": [
    "# std()\n",
    "print(np.std(arr))\n",
    "print(arr.std(axis=0))\n",
    "\n",
    "# cumsum()\n",
    "print(np.cumsum(arr))\n",
    "print(arr.cumsum())\n",
    "print(arr.cumsum(axis=0))"
   ]
  },
  {
   "cell_type": "code",
   "execution_count": 34,
   "id": "c90c9e4b",
   "metadata": {},
   "outputs": [],
   "source": [
    "arr = np.array([[1, 2, 3],\n",
    "                [0, 1, 4],\n",
    "                [1, 5, 2]])"
   ]
  },
  {
   "cell_type": "code",
   "execution_count": 37,
   "id": "ccbe4f54",
   "metadata": {},
   "outputs": [
    {
     "name": "stdout",
     "output_type": "stream",
     "text": [
      "[2. 1. 2.]\n"
     ]
    }
   ],
   "source": [
    "# median()\n",
    "print(np.median(arr, axis=1))"
   ]
  },
  {
   "cell_type": "markdown",
   "id": "2cbfe629",
   "metadata": {},
   "source": [
    "### 3-4. 배열의 연산4 : 비교 연산 / 삼각함수 "
   ]
  },
  {
   "cell_type": "code",
   "execution_count": 39,
   "id": "d75d4021",
   "metadata": {},
   "outputs": [
    {
     "name": "stdout",
     "output_type": "stream",
     "text": [
      "[[ True False  True]\n",
      " [ True False False]]\n",
      "[[False  True False]\n",
      " [False  True False]]\n",
      "False\n"
     ]
    }
   ],
   "source": [
    "# 비교 연산\n",
    "arr1 = np.array([[1, 2, 3],\n",
    "                 [4, 5, 6]])\n",
    "arr2 = np.array([[1, 0, 3],\n",
    "                 [4, -2, 9]])\n",
    "print(arr1 == arr2)\n",
    "print(arr1 > arr2)\n",
    "print(np.array_equal(arr1, arr2)) #배열 전체가 동일한지 알아보는 방법"
   ]
  },
  {
   "cell_type": "code",
   "execution_count": 41,
   "id": "34480c80",
   "metadata": {},
   "outputs": [
    {
     "name": "stdout",
     "output_type": "stream",
     "text": [
      "[[ 0.84147098  0.90929743  0.14112001]\n",
      " [-0.7568025  -0.95892427 -0.2794155 ]]\n",
      "[[ 0.54030231 -0.41614684 -0.9899925 ]\n",
      " [-0.65364362  0.28366219  0.96017029]]\n",
      "[[ 1.55740772 -2.18503986 -0.14254654]\n",
      " [ 1.15782128 -3.38051501 -0.29100619]]\n",
      "3.141592653589793\n"
     ]
    }
   ],
   "source": [
    "# 삼각함수\n",
    "arr = np.array([[1, 2, 3],\n",
    "                [4, 5, 6]])\n",
    "\n",
    "# sin()\n",
    "print(np.sin(arr))\n",
    "\n",
    "# cos()\n",
    "print(np.cos(arr))\n",
    "\n",
    "# tan()\n",
    "print(np.tan(arr))\n",
    "\n",
    "# pi\n",
    "print(np.pi)"
   ]
  },
  {
   "cell_type": "markdown",
   "id": "861d1a2b",
   "metadata": {},
   "source": [
    "### 3-5. 브로드캐스팅(Broadcasting)"
   ]
  },
  {
   "cell_type": "code",
   "execution_count": 42,
   "id": "d39084a7",
   "metadata": {},
   "outputs": [
    {
     "name": "stdout",
     "output_type": "stream",
     "text": [
      "[[5 6 7]\n",
      " [6 7 8]\n",
      " [7 8 9]]\n",
      "[[2 2 2]]\n"
     ]
    }
   ],
   "source": [
    "arr1 = np.array([[0, 0, 0],\n",
    "                 [1, 1, 1],\n",
    "                 [2, 2, 2]])\n",
    "arr2 = np.array([[5, 6 ,7]])\n",
    "\n",
    "print(arr1 + arr2)\n",
    "\n",
    "arr1 = np.array([[1 ,1 ,1]])\n",
    "arr2 = np.array([1])\n",
    "\n",
    "print(arr1 + arr2)"
   ]
  },
  {
   "cell_type": "markdown",
   "id": "12c7d278",
   "metadata": {},
   "source": [
    "### 3-6. 벡터 연산의 장점"
   ]
  },
  {
   "cell_type": "code",
   "execution_count": 43,
   "id": "f8c126c4",
   "metadata": {},
   "outputs": [],
   "source": [
    "import time"
   ]
  },
  {
   "cell_type": "code",
   "execution_count": 45,
   "id": "1a292b36",
   "metadata": {},
   "outputs": [],
   "source": [
    "arr = np.arange(99999999)"
   ]
  },
  {
   "cell_type": "code",
   "execution_count": 47,
   "id": "4f1fd15c",
   "metadata": {},
   "outputs": [
    {
     "name": "stdout",
     "output_type": "stream",
     "text": [
      "4999999850000001 20.94869303703308 초\n"
     ]
    }
   ],
   "source": [
    "# for\n",
    "sum = 0;\n",
    "before = time.time()\n",
    "for i in arr:\n",
    "    sum += i\n",
    "after = time.time()\n",
    "print(sum, after - before, \"초\")"
   ]
  },
  {
   "cell_type": "code",
   "execution_count": 49,
   "id": "85956972",
   "metadata": {},
   "outputs": [
    {
     "name": "stdout",
     "output_type": "stream",
     "text": [
      "4999999850000001 0.07559394836425781 초\n"
     ]
    }
   ],
   "source": [
    "# 벡터 연산\n",
    "before = time.time()\n",
    "sum = np.sum(arr)\n",
    "after = time.time()\n",
    "print(sum, after - before, \"초\")"
   ]
  },
  {
   "cell_type": "code",
   "execution_count": 51,
   "id": "c5848cea",
   "metadata": {},
   "outputs": [],
   "source": [
    "arr1 = np.arange(99999999)\n",
    "arr2 = np.arange(99999999)"
   ]
  },
  {
   "cell_type": "code",
   "execution_count": 54,
   "id": "f0f2875b",
   "metadata": {},
   "outputs": [
    {
     "name": "stderr",
     "output_type": "stream",
     "text": [
      "/Users/otaehun/opt/anaconda3/envs/test1/lib/python3.7/site-packages/ipykernel_launcher.py:5: RuntimeWarning: overflow encountered in long_scalars\n",
      "  \"\"\"\n"
     ]
    },
    {
     "name": "stdout",
     "output_type": "stream",
     "text": [
      "652921401952298879 40.18451404571533 초\n"
     ]
    }
   ],
   "source": [
    "# for\n",
    "sum = 0\n",
    "before = time.time()\n",
    "for i, j in zip(arr1, arr2): # zip() 경우 갯수가 동일한 sequential 자리에만 사용가능\n",
    "    sum += i * j\n",
    "after = time.time()\n",
    "print(sum, after - before, \"초\")"
   ]
  },
  {
   "cell_type": "code",
   "execution_count": 55,
   "id": "3261c659",
   "metadata": {},
   "outputs": [
    {
     "ename": "SyntaxError",
     "evalue": "positional argument follows keyword argument (3004387475.py, line 5)",
     "output_type": "error",
     "traceback": [
      "\u001b[0;36m  File \u001b[0;32m\"/var/folders/rt/brc1rvr50mn8t1bt5s8cz47w0000gn/T/ipykernel_1385/3004387475.py\"\u001b[0;36m, line \u001b[0;32m5\u001b[0m\n\u001b[0;31m    print(sum, after = before, \"초\")\u001b[0m\n\u001b[0m                              ^\u001b[0m\n\u001b[0;31mSyntaxError\u001b[0m\u001b[0;31m:\u001b[0m positional argument follows keyword argument\n"
     ]
    }
   ],
   "source": [
    "# 벡터 연산\n",
    "before = time.time()\n",
    "sum = np.dot(arr1, arr2)\n",
    "after = time.time()\n",
    "print(sum, after = before, \"초\")"
   ]
  }
 ],
 "metadata": {
  "kernelspec": {
   "display_name": "Python 3.7.0 64-bit ('test1': conda)",
   "language": "python",
   "name": "python370jvsc74a57bd01486d7e90339fae6c5b3e5484bedca569f2c9cafabf4c8b3bf849689424eb737"
  },
  "language_info": {
   "codemirror_mode": {
    "name": "ipython",
    "version": 3
   },
   "file_extension": ".py",
   "mimetype": "text/x-python",
   "name": "python",
   "nbconvert_exporter": "python",
   "pygments_lexer": "ipython3",
   "version": "3.7.0"
  }
 },
 "nbformat": 4,
 "nbformat_minor": 5
}
