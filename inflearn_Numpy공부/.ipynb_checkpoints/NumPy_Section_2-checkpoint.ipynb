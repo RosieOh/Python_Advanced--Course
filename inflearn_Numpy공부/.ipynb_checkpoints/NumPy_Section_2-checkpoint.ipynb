{
 "cells": [
  {
   "cell_type": "markdown",
   "id": "416e0a22",
   "metadata": {},
   "source": [
    "# Section 2. N차원 배열의 인덱싱"
   ]
  },
  {
   "cell_type": "markdown",
   "id": "aff659fa",
   "metadata": {},
   "source": [
    "## 2-1. 배열의 index 접근하기"
   ]
  },
  {
   "cell_type": "code",
   "execution_count": 2,
   "id": "c31fd0b5",
   "metadata": {},
   "outputs": [],
   "source": [
    "import numpy as np"
   ]
  },
  {
   "cell_type": "code",
   "execution_count": 7,
   "id": "5626ecab",
   "metadata": {},
   "outputs": [
    {
     "name": "stdout",
     "output_type": "stream",
     "text": [
      "[0 1 2 3 4 5 6 7 8 9]\n",
      "3\n",
      "1\n",
      "7\n",
      "0\n"
     ]
    }
   ],
   "source": [
    "# 1차원 배열\n",
    "arr = np.array([0, 1, 2, 3, 4, 5, 6, 7, 8, 9])\n",
    "arr = np.arange(10)\n",
    "print(arr)\n",
    "\n",
    "print(arr[3])\n",
    "print(arr[1])\n",
    "print(arr[-3])\n",
    "print(arr[-10])"
   ]
  },
  {
   "cell_type": "code",
   "execution_count": 9,
   "id": "51b9ca77",
   "metadata": {},
   "outputs": [
    {
     "name": "stdout",
     "output_type": "stream",
     "text": [
      "[[ 1  2  3  4]\n",
      " [ 5  6  7  8]\n",
      " [ 9 10 11 12]] (3, 4) 2\n",
      "4\n"
     ]
    }
   ],
   "source": [
    "# 2차원 배열\n",
    "arr = np.array([[1, 2, 3, 4],\n",
    "                [5, 6, 7, 8],\n",
    "                [9, 10, 11, 12]])\n",
    "print(arr, arr.shape, arr.ndim)\n",
    "print(arr[0][3])"
   ]
  },
  {
   "cell_type": "code",
   "execution_count": 11,
   "id": "0e8c05be",
   "metadata": {},
   "outputs": [
    {
     "name": "stdout",
     "output_type": "stream",
     "text": [
      "[3 4 5 6 7]\n",
      "[3 4 5 6 7 8 9]\n",
      "[0 1 2 3 4 5 6]\n",
      "[0 1 2 3 4 5 6 7 8]\n"
     ]
    }
   ],
   "source": [
    "arr = np.array([0, 1, 2, 3, 4, 5, 6, 7, 8, 9])\n",
    "print(arr[3:8])\n",
    "print(arr[3:])\n",
    "print(arr[:7])\n",
    "print(arr[:-1])"
   ]
  },
  {
   "cell_type": "code",
   "execution_count": 15,
   "id": "c65e7487",
   "metadata": {},
   "outputs": [
    {
     "name": "stdout",
     "output_type": "stream",
     "text": [
      "[1 2 3 4]\n",
      "[ 2  6 10]\n"
     ]
    }
   ],
   "source": [
    "arr = np.array([[1, 2, 3, 4],\n",
    "                [5, 6, 7 ,8],\n",
    "                [9, 10, 11, 12]])\n",
    "\n",
    "print(arr[0, :])\n",
    "print(arr[:, 1])"
   ]
  },
  {
   "cell_type": "code",
   "execution_count": 19,
   "id": "308ef679",
   "metadata": {},
   "outputs": [
    {
     "name": "stdout",
     "output_type": "stream",
     "text": [
      "[[ 1  2  3  4]\n",
      " [ 5  6  7  8]\n",
      " [ 9 10 11 12]]\n",
      "[[3 4]\n",
      " [7 8]]\n"
     ]
    }
   ],
   "source": [
    "print(arr[:3, :])\n",
    "print(arr[:2, 2:])"
   ]
  },
  {
   "cell_type": "markdown",
   "id": "fb6f57a9",
   "metadata": {},
   "source": [
    "## 2-2. 배열의 Fancy 인덱싱"
   ]
  },
  {
   "cell_type": "code",
   "execution_count": 20,
   "id": "eab77d1f",
   "metadata": {},
   "outputs": [
    {
     "name": "stdout",
     "output_type": "stream",
     "text": [
      "[ 5 15 25]\n"
     ]
    }
   ],
   "source": [
    "# 1차원 배열\n",
    "arr = np.array([5, 10, 15, 20, 25, 30])\n",
    "print(arr[[0, 2, 4]])"
   ]
  },
  {
   "cell_type": "code",
   "execution_count": 22,
   "id": "9effdb63",
   "metadata": {},
   "outputs": [
    {
     "name": "stdout",
     "output_type": "stream",
     "text": [
      "[[15 20]\n",
      " [55 60]]\n",
      "[[35 40]\n",
      " [55 60]]\n"
     ]
    }
   ],
   "source": [
    "# 2차원 배열\n",
    "arr = np.array([[5, 10, 15, 20],\n",
    "               [25, 30, 35, 40],\n",
    "               [45, 50, 55, 60]])\n",
    "print(arr[[0, 2], 2:])\n",
    "print(arr[1:, [2, 3]]) # [1:~] : 아래 25부터 60까지"
   ]
  },
  {
   "cell_type": "markdown",
   "id": "6e9c620c",
   "metadata": {},
   "source": [
    "## 2-3. Boolean 인덱싱"
   ]
  },
  {
   "cell_type": "code",
   "execution_count": 23,
   "id": "14b62f94",
   "metadata": {},
   "outputs": [
    {
     "name": "stdout",
     "output_type": "stream",
     "text": [
      "[1 3 4]\n",
      "[[1 2 3 4]]\n"
     ]
    }
   ],
   "source": [
    "arr = np.array([1, 2, 3, 4])\n",
    "print(arr[[True, False, True, True]])\n",
    "\n",
    "arr = np.array([[1, 2, 3, 4],\n",
    "                [5, 6, 7, 8]])\n",
    "print(arr[[True, False], True])"
   ]
  },
  {
   "cell_type": "code",
   "execution_count": 24,
   "id": "e69e55c7",
   "metadata": {},
   "outputs": [
    {
     "name": "stdout",
     "output_type": "stream",
     "text": [
      "[4 5 6 7 8]\n",
      "[1 2]\n"
     ]
    }
   ],
   "source": [
    "arr = np.array([[1, 2, 3, 4],\n",
    "                [5, 6, 7, 8]])\n",
    "print(arr[arr > 3])\n",
    "print(arr[arr <= 2])"
   ]
  }
 ],
 "metadata": {
  "kernelspec": {
   "display_name": "Python 3.7.0 64-bit ('test1': conda)",
   "language": "python",
   "name": "python370jvsc74a57bd01486d7e90339fae6c5b3e5484bedca569f2c9cafabf4c8b3bf849689424eb737"
  },
  "language_info": {
   "codemirror_mode": {
    "name": "ipython",
    "version": 3
   },
   "file_extension": ".py",
   "mimetype": "text/x-python",
   "name": "python",
   "nbconvert_exporter": "python",
   "pygments_lexer": "ipython3",
   "version": "3.7.0"
  }
 },
 "nbformat": 4,
 "nbformat_minor": 5
}
