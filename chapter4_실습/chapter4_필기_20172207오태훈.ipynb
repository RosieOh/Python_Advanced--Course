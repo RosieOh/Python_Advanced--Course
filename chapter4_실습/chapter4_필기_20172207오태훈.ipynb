{
 "cells": [
  {
   "cell_type": "markdown",
   "id": "794adddb",
   "metadata": {},
   "source": [
    "# NumPy Basics: Arrays and Vectorized Computatior"
   ]
  },
  {
   "cell_type": "code",
   "execution_count": 7,
   "id": "ad40a214",
   "metadata": {},
   "outputs": [
    {
     "ename": "TypeError",
     "evalue": "can only concatenate list (not \"int\") to list",
     "output_type": "error",
     "traceback": [
      "\u001b[0;31m---------------------------------------------------------------------------\u001b[0m",
      "\u001b[0;31mTypeError\u001b[0m                                 Traceback (most recent call last)",
      "\u001b[0;32m/var/folders/rt/brc1rvr50mn8t1bt5s8cz47w0000gn/T/ipykernel_2162/674771248.py\u001b[0m in \u001b[0;36m<module>\u001b[0;34m\u001b[0m\n\u001b[1;32m      1\u001b[0m \u001b[0ma\u001b[0m \u001b[0;34m=\u001b[0m \u001b[0;34m(\u001b[0m\u001b[0;34m[\u001b[0m\u001b[0;36m1\u001b[0m\u001b[0;34m,\u001b[0m\u001b[0;36m2\u001b[0m\u001b[0;34m,\u001b[0m\u001b[0;36m3\u001b[0m\u001b[0;34m,\u001b[0m\u001b[0;36m4\u001b[0m\u001b[0;34m,\u001b[0m\u001b[0;36m5\u001b[0m\u001b[0;34m]\u001b[0m\u001b[0;34m,\u001b[0m\u001b[0;34m[\u001b[0m\u001b[0;36m1\u001b[0m\u001b[0;34m,\u001b[0m\u001b[0;36m2\u001b[0m\u001b[0;34m,\u001b[0m\u001b[0;36m3\u001b[0m\u001b[0;34m,\u001b[0m\u001b[0;36m4\u001b[0m\u001b[0;34m,\u001b[0m\u001b[0;36m5\u001b[0m\u001b[0;34m]\u001b[0m\u001b[0;34m)\u001b[0m\u001b[0;34m\u001b[0m\u001b[0m\n\u001b[0;32m----> 2\u001b[0;31m \u001b[0;34m[\u001b[0m\u001b[0mx\u001b[0m\u001b[0;34m+\u001b[0m\u001b[0;36m10\u001b[0m \u001b[0;32mfor\u001b[0m \u001b[0mx\u001b[0m \u001b[0;32min\u001b[0m \u001b[0ma\u001b[0m\u001b[0;34m]\u001b[0m\u001b[0;34m\u001b[0m\u001b[0m\n\u001b[0m",
      "\u001b[0;32m/var/folders/rt/brc1rvr50mn8t1bt5s8cz47w0000gn/T/ipykernel_2162/674771248.py\u001b[0m in \u001b[0;36m<listcomp>\u001b[0;34m(.0)\u001b[0m\n\u001b[1;32m      1\u001b[0m \u001b[0ma\u001b[0m \u001b[0;34m=\u001b[0m \u001b[0;34m(\u001b[0m\u001b[0;34m[\u001b[0m\u001b[0;36m1\u001b[0m\u001b[0;34m,\u001b[0m\u001b[0;36m2\u001b[0m\u001b[0;34m,\u001b[0m\u001b[0;36m3\u001b[0m\u001b[0;34m,\u001b[0m\u001b[0;36m4\u001b[0m\u001b[0;34m,\u001b[0m\u001b[0;36m5\u001b[0m\u001b[0;34m]\u001b[0m\u001b[0;34m,\u001b[0m\u001b[0;34m[\u001b[0m\u001b[0;36m1\u001b[0m\u001b[0;34m,\u001b[0m\u001b[0;36m2\u001b[0m\u001b[0;34m,\u001b[0m\u001b[0;36m3\u001b[0m\u001b[0;34m,\u001b[0m\u001b[0;36m4\u001b[0m\u001b[0;34m,\u001b[0m\u001b[0;36m5\u001b[0m\u001b[0;34m]\u001b[0m\u001b[0;34m)\u001b[0m\u001b[0;34m\u001b[0m\u001b[0m\n\u001b[0;32m----> 2\u001b[0;31m \u001b[0;34m[\u001b[0m\u001b[0mx\u001b[0m\u001b[0;34m+\u001b[0m\u001b[0;36m10\u001b[0m \u001b[0;32mfor\u001b[0m \u001b[0mx\u001b[0m \u001b[0;32min\u001b[0m \u001b[0ma\u001b[0m\u001b[0;34m]\u001b[0m\u001b[0;34m\u001b[0m\u001b[0m\n\u001b[0m",
      "\u001b[0;31mTypeError\u001b[0m: can only concatenate list (not \"int\") to list"
     ]
    }
   ],
   "source": [
    "a = ([1,2,3,4,5],[1,2,3,4,5])\n",
    "[x+10 for x in a]"
   ]
  },
  {
   "cell_type": "code",
   "execution_count": 8,
   "id": "6d627b93",
   "metadata": {},
   "outputs": [
    {
     "data": {
      "text/plain": [
       "array([11, 12, 13, 14, 15])"
      ]
     },
     "execution_count": 8,
     "metadata": {},
     "output_type": "execute_result"
    }
   ],
   "source": [
    "import numpy as np\n",
    "np.array([1,2,3,4,5]) + 10 # np.array([10,10,10,10,10])"
   ]
  },
  {
   "cell_type": "code",
   "execution_count": 9,
   "id": "bb5cacbf",
   "metadata": {},
   "outputs": [],
   "source": [
    "import numpy as np\n",
    "np.random.seed(12345)\n",
    "import matplotlib.pyplot as plt\n",
    "plt.rc('figure', figsize=(10, 6))\n",
    "np.set_printoptions(precision=4, suppress=True)"
   ]
  },
  {
   "cell_type": "code",
   "execution_count": 10,
   "id": "bd6691a5",
   "metadata": {},
   "outputs": [],
   "source": [
    "import numpy as np\n",
    "my_arr = np.arange(1000000)\n",
    "my_list = list(range(1000000))"
   ]
  },
  {
   "cell_type": "code",
   "execution_count": 11,
   "id": "38aebba4",
   "metadata": {},
   "outputs": [
    {
     "name": "stdout",
     "output_type": "stream",
     "text": [
      "CPU times: user 9.68 ms, sys: 7.97 ms, total: 17.6 ms\n",
      "Wall time: 15.9 ms\n",
      "CPU times: user 692 ms, sys: 112 ms, total: 804 ms\n",
      "Wall time: 806 ms\n"
     ]
    }
   ],
   "source": [
    "%time for _ in range(10): my_arr2 = my_arr * 2\n",
    "%time for _ in range(10): my_list2 = [x * 2 for x in my_list]"
   ]
  },
  {
   "cell_type": "markdown",
   "id": "b9a54380",
   "metadata": {},
   "source": [
    "# NumPy ndarray: 다차원 배열 객체"
   ]
  },
  {
   "cell_type": "code",
   "execution_count": 12,
   "id": "5ff5d389",
   "metadata": {},
   "outputs": [
    {
     "data": {
      "text/plain": [
       "array([[-0.2047,  0.4789, -0.5194],\n",
       "       [-0.5557,  1.9658,  1.3934]])"
      ]
     },
     "execution_count": 12,
     "metadata": {},
     "output_type": "execute_result"
    }
   ],
   "source": [
    "import numpy as np\n",
    "data = np.random.randn(2, 3)\n",
    "data #결과값 = 랜덤 변수 추출"
   ]
  },
  {
   "cell_type": "code",
   "execution_count": 13,
   "id": "9e47552f",
   "metadata": {},
   "outputs": [
    {
     "data": {
      "text/plain": [
       "array([[-0.4094,  0.9579, -1.0389],\n",
       "       [-1.1115,  3.9316,  2.7868]])"
      ]
     },
     "execution_count": 13,
     "metadata": {},
     "output_type": "execute_result"
    }
   ],
   "source": [
    "data * 10\n",
    "data + data"
   ]
  },
  {
   "cell_type": "code",
   "execution_count": 14,
   "id": "654d9541",
   "metadata": {},
   "outputs": [
    {
     "data": {
      "text/plain": [
       "dtype('float64')"
      ]
     },
     "execution_count": 14,
     "metadata": {},
     "output_type": "execute_result"
    }
   ],
   "source": [
    "data.shape\n",
    "data.dtype"
   ]
  },
  {
   "cell_type": "markdown",
   "id": "5e5a361b",
   "metadata": {},
   "source": [
    "ndarray는 같은 종류의 데이터를 담을 수 있는 포괄적인 다차원 배열\n",
    "    의 모든 원소는 같은 자료형이어야함\n",
    "\n",
    "\n",
    "shape : 각 차원의 크기를 알려주는 튜플\n",
    "\n",
    "dtype : 배열에 저장된 자료형을 알려주는 객체"
   ]
  },
  {
   "cell_type": "markdown",
   "id": "c622d5e8",
   "metadata": {},
   "source": [
    "# ndarray 생성하기"
   ]
  },
  {
   "cell_type": "markdown",
   "id": "46e45f3c",
   "metadata": {},
   "source": [
    "배열을 생성하는 방법 : array( ) 함수 이용\n",
    "\n",
    "순차적인 객체(다른 배열도 포함하여)를 넘겨받고, 넘겨받은 데이터가 들어있는 새로운 NumPy 배열을 생성한다."
   ]
  },
  {
   "cell_type": "code",
   "execution_count": 15,
   "id": "88961a6c",
   "metadata": {},
   "outputs": [
    {
     "data": {
      "text/plain": [
       "array([6. , 7.5, 8. , 0. , 1. ])"
      ]
     },
     "execution_count": 15,
     "metadata": {},
     "output_type": "execute_result"
    }
   ],
   "source": [
    "data1 = [6, 7.5, 8, 0, 1]\n",
    "arr1 = np.array(data1)\n",
    "arr1"
   ]
  },
  {
   "cell_type": "markdown",
   "id": "ceb6bd9d",
   "metadata": {},
   "source": [
    "같은 길이를 가지는 리스트를 내포하고 있는 순차 데이터는 다차원 배열로 변환 가능하다."
   ]
  },
  {
   "cell_type": "code",
   "execution_count": 16,
   "id": "b1d26de1",
   "metadata": {},
   "outputs": [
    {
     "data": {
      "text/plain": [
       "array([[1, 2, 3, 4],\n",
       "       [5, 6, 7, 8]])"
      ]
     },
     "execution_count": 16,
     "metadata": {},
     "output_type": "execute_result"
    }
   ],
   "source": [
    "data2 = [[1, 2, 3, 4], [5, 6, 7, 8]]\n",
    "arr2 = np.array(data2)\n",
    "arr2 # 2차원으로 생성됨 "
   ]
  },
  {
   "cell_type": "code",
   "execution_count": 17,
   "id": "feb0b41d",
   "metadata": {},
   "outputs": [
    {
     "data": {
      "text/plain": [
       "(2, 4)"
      ]
     },
     "execution_count": 17,
     "metadata": {},
     "output_type": "execute_result"
    }
   ],
   "source": [
    "arr2.ndim \n",
    "arr2.shape\n",
    "\n",
    "# 속성검사"
   ]
  },
  {
   "cell_type": "markdown",
   "id": "7c49c341",
   "metadata": {},
   "source": [
    "np.array는 생성될 때 적절한 자료형을 추론한다.\n",
    "\n",
    "그렇게 추론된 자료형은 dtype 객체에 저장됨"
   ]
  },
  {
   "cell_type": "code",
   "execution_count": 18,
   "id": "60d4b941",
   "metadata": {},
   "outputs": [
    {
     "data": {
      "text/plain": [
       "dtype('int64')"
      ]
     },
     "execution_count": 18,
     "metadata": {},
     "output_type": "execute_result"
    }
   ],
   "source": [
    "arr1.dtype\n",
    "arr2.dtype"
   ]
  },
  {
   "cell_type": "markdown",
   "id": "ceb23bac",
   "metadata": {},
   "source": [
    "zeros와 ones는 주어진 길이나 모양에  각각 0과 1이 들어있는 배열을 생성한다.\n",
    "\n",
    "empty함수는 초기화 되지 않은 배열을 생성한다.\n",
    "\n",
    "이런 메서드를 사용해서 다차원 배열을 생성하려면 원하는 객체의 튜플을 넘기면 된다."
   ]
  },
  {
   "cell_type": "code",
   "execution_count": 19,
   "id": "ef7cd039",
   "metadata": {},
   "outputs": [
    {
     "data": {
      "text/plain": [
       "array([[[0.0000e+000, 1.0094e-320],\n",
       "        [0.0000e+000, 0.0000e+000],\n",
       "        [0.0000e+000, 3.7623e+174]],\n",
       "\n",
       "       [[5.4951e-090, 1.3362e+165],\n",
       "        [3.6130e+174, 1.7217e+184],\n",
       "        [3.9991e+252, 1.4603e-319]]])"
      ]
     },
     "execution_count": 19,
     "metadata": {},
     "output_type": "execute_result"
    }
   ],
   "source": [
    "np.zeros(10)\n",
    "np.zeros((3, 6))\n",
    "np.empty((2, 3, 2))"
   ]
  },
  {
   "cell_type": "markdown",
   "id": "5b9532bd",
   "metadata": {},
   "source": [
    "np.empty는 0으로 초기화된 배열을 반환하지 않는다."
   ]
  },
  {
   "cell_type": "code",
   "execution_count": 20,
   "id": "2428e293",
   "metadata": {},
   "outputs": [
    {
     "data": {
      "text/plain": [
       "array([ 0,  1,  2,  3,  4,  5,  6,  7,  8,  9, 10, 11, 12, 13, 14])"
      ]
     },
     "execution_count": 20,
     "metadata": {},
     "output_type": "execute_result"
    }
   ],
   "source": [
    "np.arange(15)"
   ]
  },
  {
   "cell_type": "markdown",
   "id": "cc4230cb",
   "metadata": {},
   "source": [
    "# Data Types for ndarrays"
   ]
  },
  {
   "cell_type": "markdown",
   "id": "d93a9437",
   "metadata": {},
   "source": [
    "dtype : ndarray가 메모리에 있는 특정 데이터를 해석하기 위해 필요한 정보(또는 메타데이터)를 담고 있는 특수한 객체다."
   ]
  },
  {
   "cell_type": "code",
   "execution_count": 21,
   "id": "01605254",
   "metadata": {},
   "outputs": [
    {
     "data": {
      "text/plain": [
       "dtype('int32')"
      ]
     },
     "execution_count": 21,
     "metadata": {},
     "output_type": "execute_result"
    }
   ],
   "source": [
    "arr1 = np.array([1, 2, 3], dtype=np.float64)\n",
    "arr2 = np.array([1, 2, 3], dtype=np.int32)\n",
    "arr1.dtype\n",
    "arr2.dtype"
   ]
  },
  {
   "cell_type": "markdown",
   "id": "0f9c6b4b",
   "metadata": {},
   "source": [
    "ndarray의 astype 메서드를 사용해서 배열의 dtype을 다른 형으로 명시적으로 변환 및 캐스팅 가능하다."
   ]
  },
  {
   "cell_type": "code",
   "execution_count": 22,
   "id": "a1a9ebb3",
   "metadata": {},
   "outputs": [
    {
     "data": {
      "text/plain": [
       "dtype('float64')"
      ]
     },
     "execution_count": 22,
     "metadata": {},
     "output_type": "execute_result"
    }
   ],
   "source": [
    "arr = np.array([1, 2, 3, 4, 5])\n",
    "arr.dtype\n",
    "float_arr = arr.astype(np.float64)\n",
    "float_arr.dtype"
   ]
  },
  {
   "cell_type": "markdown",
   "id": "fc019a3e",
   "metadata": {},
   "source": [
    "astpye를 활용 == int64 ~ float64로 변환"
   ]
  },
  {
   "cell_type": "code",
   "execution_count": 23,
   "id": "cb96898d",
   "metadata": {},
   "outputs": [
    {
     "data": {
      "text/plain": [
       "array([1, 2, 3, 4, 5], dtype=int32)"
      ]
     },
     "execution_count": 23,
     "metadata": {},
     "output_type": "execute_result"
    }
   ],
   "source": [
    "arr = np.array([1, 2, 3, 4, 5])\n",
    "arr\n",
    "arr.astype(np.int32)"
   ]
  },
  {
   "cell_type": "markdown",
   "id": "91ed4631",
   "metadata": {},
   "source": [
    "정수형을 부동소수점으로 변환, 만약 부동소수점수를 정수형 dtype으로 변환하면 소수점 아래 자리는 버려진다."
   ]
  },
  {
   "cell_type": "code",
   "execution_count": 24,
   "id": "f0009472",
   "metadata": {},
   "outputs": [
    {
     "data": {
      "text/plain": [
       "array([ 3, -1, -2,  0, 12, 10], dtype=int32)"
      ]
     },
     "execution_count": 24,
     "metadata": {},
     "output_type": "execute_result"
    }
   ],
   "source": [
    "arr = np.array([3.7, -1.2, -2.6, 0.5, 12.9, 10.1])\n",
    "arr\n",
    "arr.astype(np.int32)"
   ]
  },
  {
   "cell_type": "markdown",
   "id": "aaf76d28",
   "metadata": {},
   "source": [
    "숫자 형식의 문자열을 담고 있는 배열이 있다면 astype을 사용하여 숫자로 변환할 수 있다."
   ]
  },
  {
   "cell_type": "code",
   "execution_count": 25,
   "id": "31d2aa0c",
   "metadata": {},
   "outputs": [
    {
     "data": {
      "text/plain": [
       "array([ 1.25, -9.6 , 42.  ])"
      ]
     },
     "execution_count": 25,
     "metadata": {},
     "output_type": "execute_result"
    }
   ],
   "source": [
    "numeric_strings = np.array(['1.25', '-9.6', '42'], dtype=np.string_)\n",
    "numeric_strings.astype(float)"
   ]
  },
  {
   "cell_type": "code",
   "execution_count": 26,
   "id": "9246123c",
   "metadata": {},
   "outputs": [
    {
     "data": {
      "text/plain": [
       "array([0., 1., 2., 3., 4., 5., 6., 7., 8., 9.])"
      ]
     },
     "execution_count": 26,
     "metadata": {},
     "output_type": "execute_result"
    }
   ],
   "source": [
    "int_array = np.arange(10)\n",
    "calibers = np.array([.22, .270, .357, .380, .44, .50], dtype=np.float64)\n",
    "int_array.astype(calibers.dtype)"
   ]
  },
  {
   "cell_type": "code",
   "execution_count": 27,
   "id": "27d1ff95",
   "metadata": {},
   "outputs": [
    {
     "data": {
      "text/plain": [
       "array([         0, 1075314688,          0, 1075707904,          0,\n",
       "       1075838976,          0, 1072693248], dtype=uint32)"
      ]
     },
     "execution_count": 27,
     "metadata": {},
     "output_type": "execute_result"
    }
   ],
   "source": [
    "empty_uint32 = np.empty(8, dtype='u4')\n",
    "empty_uint32"
   ]
  },
  {
   "cell_type": "markdown",
   "id": "c455fe8b",
   "metadata": {},
   "source": [
    "# NumPy 배열의 산술 연산"
   ]
  },
  {
   "cell_type": "markdown",
   "id": "b9fcb3ff",
   "metadata": {},
   "source": [
    "배열 ~ for문을 작성하지 않고 데이터를 일괄 처리할 수 있다는 것. == 벡터화\n",
    "\n",
    "같은 크기의 배열 간의 산술 연산은 배열의 각 원소단위로 적용됨"
   ]
  },
  {
   "cell_type": "code",
   "execution_count": 28,
   "id": "583f8780",
   "metadata": {},
   "outputs": [
    {
     "data": {
      "text/plain": [
       "array([[0., 0., 0.],\n",
       "       [0., 0., 0.]])"
      ]
     },
     "execution_count": 28,
     "metadata": {},
     "output_type": "execute_result"
    }
   ],
   "source": [
    "arr = np.array([[1., 2., 3.], [4., 5., 6.]])\n",
    "arr\n",
    "arr * arr\n",
    "arr - arr"
   ]
  },
  {
   "cell_type": "code",
   "execution_count": 29,
   "id": "61e1585f",
   "metadata": {},
   "outputs": [
    {
     "data": {
      "text/plain": [
       "array([[1.    , 1.4142, 1.7321],\n",
       "       [2.    , 2.2361, 2.4495]])"
      ]
     },
     "execution_count": 29,
     "metadata": {},
     "output_type": "execute_result"
    }
   ],
   "source": [
    "1 / arr\n",
    "arr ** 0.5\n",
    "\n",
    "# np.sqrt(arr) 과 계산결과 동일"
   ]
  },
  {
   "cell_type": "markdown",
   "id": "4579a509",
   "metadata": {},
   "source": [
    "같은 크기를 가지는 배열 간의 비교 연산은 불리언 배열을 반환한다."
   ]
  },
  {
   "cell_type": "code",
   "execution_count": 30,
   "id": "21a7c998",
   "metadata": {},
   "outputs": [
    {
     "data": {
      "text/plain": [
       "array([[False,  True, False],\n",
       "       [ True, False,  True]])"
      ]
     },
     "execution_count": 30,
     "metadata": {},
     "output_type": "execute_result"
    }
   ],
   "source": [
    "arr2 = np.array([[0., 4., 1.,], [7., 2., 12.]])\n",
    "arr2\n",
    "arr2 > arr"
   ]
  },
  {
   "cell_type": "markdown",
   "id": "4510fe89",
   "metadata": {},
   "source": [
    "크기가 다른 배열 간의 연산 : 브로드캐스팅"
   ]
  },
  {
   "cell_type": "markdown",
   "id": "abf64a0e",
   "metadata": {},
   "source": [
    "# 색인과 슬라이싱 기초"
   ]
  },
  {
   "cell_type": "markdown",
   "id": "f217b0e4",
   "metadata": {},
   "source": [
    "1차원 배열은 단순한데, 표면적으로는 파이썬의 리스트와 유사하게 동작한다."
   ]
  },
  {
   "cell_type": "code",
   "execution_count": 31,
   "id": "a1df12f8",
   "metadata": {},
   "outputs": [
    {
     "data": {
      "text/plain": [
       "array([ 0,  1,  2,  3,  4, 12, 12, 12,  8,  9])"
      ]
     },
     "execution_count": 31,
     "metadata": {},
     "output_type": "execute_result"
    }
   ],
   "source": [
    "arr = np.arange(10)\n",
    "arr\n",
    "arr[5]\n",
    "arr[5:8]\n",
    "arr[5:8] = 12\n",
    "arr"
   ]
  },
  {
   "cell_type": "markdown",
   "id": "2edfd1e6",
   "metadata": {},
   "source": [
    "리스트와의 중요한 차이점 ~ 배열 조각은 원본 배열의 \"뷰\"\n",
    "\n",
    "데이터는 복사되지 않고 뷰에 대한 변경은 그대로 원본 배열에 반영된다."
   ]
  },
  {
   "cell_type": "code",
   "execution_count": 32,
   "id": "ee9d05c6",
   "metadata": {},
   "outputs": [
    {
     "data": {
      "text/plain": [
       "array([12, 12, 12])"
      ]
     },
     "execution_count": 32,
     "metadata": {},
     "output_type": "execute_result"
    }
   ],
   "source": [
    "arr_slice = arr[5:8]\n",
    "arr_slice"
   ]
  },
  {
   "cell_type": "markdown",
   "id": "2f318852",
   "metadata": {},
   "source": [
    "arr_slice의 값을 변경하면 원래 배열인 arr의 값도 바뀌어 있음"
   ]
  },
  {
   "cell_type": "code",
   "execution_count": 33,
   "id": "f1b9b943",
   "metadata": {},
   "outputs": [
    {
     "data": {
      "text/plain": [
       "array([    0,     1,     2,     3,     4,    12, 12345,    12,     8,\n",
       "           9])"
      ]
     },
     "execution_count": 33,
     "metadata": {},
     "output_type": "execute_result"
    }
   ],
   "source": [
    "arr_slice[1] = 12345\n",
    "arr"
   ]
  },
  {
   "cell_type": "markdown",
   "id": "46ebdd4e",
   "metadata": {},
   "source": [
    "[ : ]로 슬라이스를 하면 배열의 모든 값을 할당한다."
   ]
  },
  {
   "cell_type": "code",
   "execution_count": 34,
   "id": "d4ba184d",
   "metadata": {},
   "outputs": [
    {
     "data": {
      "text/plain": [
       "array([ 0,  1,  2,  3,  4, 64, 64, 64,  8,  9])"
      ]
     },
     "execution_count": 34,
     "metadata": {},
     "output_type": "execute_result"
    }
   ],
   "source": [
    "arr_slice[:] = 64\n",
    "arr"
   ]
  },
  {
   "cell_type": "markdown",
   "id": "42cc5d98",
   "metadata": {},
   "source": [
    "만약 뷰 대신 ndarray 슬라이스의 복사본을 얻고 싶다면 arr[5:8].copy()를 사용해서 명시적으로 배열을 복사해야한다."
   ]
  },
  {
   "cell_type": "code",
   "execution_count": 35,
   "id": "6bd7fc84",
   "metadata": {},
   "outputs": [
    {
     "data": {
      "text/plain": [
       "array([64, 64, 64])"
      ]
     },
     "execution_count": 35,
     "metadata": {},
     "output_type": "execute_result"
    }
   ],
   "source": [
    "arr[5:8].copy()"
   ]
  },
  {
   "cell_type": "code",
   "execution_count": 36,
   "id": "872d6601",
   "metadata": {},
   "outputs": [
    {
     "data": {
      "text/plain": [
       "array([7, 8, 9])"
      ]
     },
     "execution_count": 36,
     "metadata": {},
     "output_type": "execute_result"
    }
   ],
   "source": [
    "arr2d = np.array([[1, 2, 3], [4, 5, 6], [7, 8, 9]])\n",
    "arr2d[2]"
   ]
  },
  {
   "cell_type": "code",
   "execution_count": 37,
   "id": "00c31b52",
   "metadata": {},
   "outputs": [
    {
     "data": {
      "text/plain": [
       "3"
      ]
     },
     "execution_count": 37,
     "metadata": {},
     "output_type": "execute_result"
    }
   ],
   "source": [
    "arr2d[0][2]\n",
    "arr2d[0, 2]"
   ]
  },
  {
   "cell_type": "markdown",
   "id": "2633a63d",
   "metadata": {},
   "source": [
    "0번 축을 '로우'로 생각하고 1번 축을 '컬럼'으로 생각"
   ]
  },
  {
   "cell_type": "markdown",
   "id": "c7f22125",
   "metadata": {},
   "source": [
    "다차원 배열에서 마지막 색인을 생략하면 반환되는 객체는 상위 차원의 데이터를 포함하고 있는 한 차원 낮은 ndarray가 된다."
   ]
  },
  {
   "cell_type": "code",
   "execution_count": 38,
   "id": "bd4f0901",
   "metadata": {},
   "outputs": [
    {
     "data": {
      "text/plain": [
       "array([[[ 1,  2,  3],\n",
       "        [ 4,  5,  6]],\n",
       "\n",
       "       [[ 7,  8,  9],\n",
       "        [10, 11, 12]]])"
      ]
     },
     "execution_count": 38,
     "metadata": {},
     "output_type": "execute_result"
    }
   ],
   "source": [
    "arr3d = np.array([[[1, 2, 3], [4, 5, 6]], [[7, 8, 9], [10, 11, 12]]])\n",
    "arr3d"
   ]
  },
  {
   "cell_type": "code",
   "execution_count": 39,
   "id": "3c8b9e5c",
   "metadata": {},
   "outputs": [
    {
     "data": {
      "text/plain": [
       "array([[1, 2, 3],\n",
       "       [4, 5, 6]])"
      ]
     },
     "execution_count": 39,
     "metadata": {},
     "output_type": "execute_result"
    }
   ],
   "source": [
    "arr3d[0] # 2x3 크기의 배열"
   ]
  },
  {
   "cell_type": "code",
   "execution_count": 40,
   "id": "29c5a6d1",
   "metadata": {},
   "outputs": [
    {
     "data": {
      "text/plain": [
       "array([[[ 1,  2,  3],\n",
       "        [ 4,  5,  6]],\n",
       "\n",
       "       [[ 7,  8,  9],\n",
       "        [10, 11, 12]]])"
      ]
     },
     "execution_count": 40,
     "metadata": {},
     "output_type": "execute_result"
    }
   ],
   "source": [
    "old_values = arr3d[0].copy()\n",
    "arr3d[0] = 42\n",
    "arr3d\n",
    "arr3d[0] = old_values\n",
    "arr3d"
   ]
  },
  {
   "cell_type": "code",
   "execution_count": 41,
   "id": "83400b3d",
   "metadata": {},
   "outputs": [
    {
     "data": {
      "text/plain": [
       "array([[[42, 42, 42],\n",
       "        [42, 42, 42]],\n",
       "\n",
       "       [[ 7,  8,  9],\n",
       "        [10, 11, 12]]])"
      ]
     },
     "execution_count": 41,
     "metadata": {},
     "output_type": "execute_result"
    }
   ],
   "source": [
    "old_values = arr3d[0].copy()\n",
    "arr3d[0] = 42\n",
    "arr3d"
   ]
  },
  {
   "cell_type": "markdown",
   "id": "019682b5",
   "metadata": {},
   "source": [
    "arr3d[1, 0] (1, 0)으로 색인되는 1차원 배열과 그 값을 반환한다."
   ]
  },
  {
   "cell_type": "code",
   "execution_count": 42,
   "id": "962bc64f",
   "metadata": {},
   "outputs": [
    {
     "data": {
      "text/plain": [
       "array([7, 8, 9])"
      ]
     },
     "execution_count": 42,
     "metadata": {},
     "output_type": "execute_result"
    }
   ],
   "source": [
    "arr3d[1, 0]"
   ]
  },
  {
   "cell_type": "code",
   "execution_count": 43,
   "id": "5818cfe6",
   "metadata": {},
   "outputs": [
    {
     "data": {
      "text/plain": [
       "array([7, 8, 9])"
      ]
     },
     "execution_count": 43,
     "metadata": {},
     "output_type": "execute_result"
    }
   ],
   "source": [
    "x = arr3d[1]\n",
    "x\n",
    "x[0]"
   ]
  },
  {
   "cell_type": "markdown",
   "id": "c899758e",
   "metadata": {},
   "source": [
    "선택된 배열의 부분집합은 모두 배열의 뷰를 반환한다."
   ]
  },
  {
   "cell_type": "markdown",
   "id": "d299a529",
   "metadata": {},
   "source": [
    "# Indexing with slices"
   ]
  },
  {
   "cell_type": "code",
   "execution_count": 44,
   "id": "bee9077b",
   "metadata": {},
   "outputs": [
    {
     "data": {
      "text/plain": [
       "array([ 1,  2,  3,  4, 64])"
      ]
     },
     "execution_count": 44,
     "metadata": {},
     "output_type": "execute_result"
    }
   ],
   "source": [
    "arr\n",
    "arr[1:6]"
   ]
  },
  {
   "cell_type": "code",
   "execution_count": 45,
   "id": "8034ad9d",
   "metadata": {},
   "outputs": [
    {
     "data": {
      "text/plain": [
       "array([[1, 2, 3],\n",
       "       [4, 5, 6],\n",
       "       [7, 8, 9]])"
      ]
     },
     "execution_count": 45,
     "metadata": {},
     "output_type": "execute_result"
    }
   ],
   "source": [
    "arr2d # shape(3,3)"
   ]
  },
  {
   "cell_type": "code",
   "execution_count": 46,
   "id": "ebd90243",
   "metadata": {},
   "outputs": [
    {
     "data": {
      "text/plain": [
       "array([[1, 2, 3],\n",
       "       [4, 5, 6]])"
      ]
     },
     "execution_count": 46,
     "metadata": {},
     "output_type": "execute_result"
    }
   ],
   "source": [
    "arr2d\n",
    "arr2d[:2] # = arr2d[1]\n",
    "\n",
    "# 첫번쨰 축인 0번 축을 기준으로 슬라이싱됨"
   ]
  },
  {
   "cell_type": "markdown",
   "id": "bb4cfa2c",
   "metadata": {},
   "source": [
    "슬라이스는 축을 따라 선택 영역 내의 요소를 선택한다.\n",
    "\n",
    "arr2d[ : 2 ]는 'arr2d의 시작부터 두번째 로우까지의 선택'\n",
    "\n",
    "우선 arr[ n ]의 형태는 기본적으로 행을 기준으로 한다. 여기에는 :2라고 명시한 부분은 \"2번째 행까지\"로 적용되므로 처음 2개의 행이 나타나게 된다."
   ]
  },
  {
   "cell_type": "code",
   "execution_count": 47,
   "id": "7a3de6b0",
   "metadata": {},
   "outputs": [
    {
     "data": {
      "text/plain": [
       "array([[2, 3],\n",
       "       [5, 6]])"
      ]
     },
     "execution_count": 47,
     "metadata": {},
     "output_type": "execute_result"
    }
   ],
   "source": [
    "arr2d[:2, 1:]"
   ]
  },
  {
   "cell_type": "markdown",
   "id": "3aac5297",
   "metadata": {},
   "source": [
    "행은 두번째 행까지, 열은 1번자리 열부터 선택한다.(원래 시작은 0번자리 열)"
   ]
  },
  {
   "cell_type": "markdown",
   "id": "d9b2dd0a",
   "metadata": {},
   "source": [
    "슬라이싱 하면 항상 같은 차원의 배열에 대한 뷰를 얻게 된다.\n",
    "\n",
    "정수 색인과 슬라이스를 함께 사용해서 한 차원 낮은 슬라이스를 얻을 수 있다."
   ]
  },
  {
   "cell_type": "code",
   "execution_count": 48,
   "id": "b087e5f5",
   "metadata": {},
   "outputs": [
    {
     "data": {
      "text/plain": [
       "array([4, 5])"
      ]
     },
     "execution_count": 48,
     "metadata": {},
     "output_type": "execute_result"
    }
   ],
   "source": [
    "arr2d[1, :2]"
   ]
  },
  {
   "cell_type": "markdown",
   "id": "e9cd4ff4",
   "metadata": {},
   "source": [
    "첫번째 행에서, 2번째 열까지 선택한다."
   ]
  },
  {
   "cell_type": "code",
   "execution_count": 49,
   "id": "ea15eb61",
   "metadata": {},
   "outputs": [
    {
     "data": {
      "text/plain": [
       "array([3, 6])"
      ]
     },
     "execution_count": 49,
     "metadata": {},
     "output_type": "execute_result"
    }
   ],
   "source": [
    "arr2d[:2, 2]"
   ]
  },
  {
   "cell_type": "markdown",
   "id": "83f35ae2",
   "metadata": {},
   "source": [
    "그냥 콜론만 쓰면 전체 축을 선택한다는 의미이므로 이렇게 하면 원래 차원의 슬라이스를 얻게 된다.\n",
    "\n",
    "원래 차원의 슬라이스 : axis = 0 "
   ]
  },
  {
   "cell_type": "code",
   "execution_count": 50,
   "id": "4ac11b1e",
   "metadata": {},
   "outputs": [
    {
     "data": {
      "text/plain": [
       "array([[1],\n",
       "       [4],\n",
       "       [7]])"
      ]
     },
     "execution_count": 50,
     "metadata": {},
     "output_type": "execute_result"
    }
   ],
   "source": [
    "arr2d[:, :1]"
   ]
  },
  {
   "cell_type": "markdown",
   "id": "79c22cc4",
   "metadata": {},
   "source": [
    "앞의 행 조건에서는 모든 행을 다 선택하고, 열을 선택할 때에는 첫번째 열까지 선택한다."
   ]
  },
  {
   "cell_type": "code",
   "execution_count": 51,
   "id": "87bf95cc",
   "metadata": {},
   "outputs": [
    {
     "data": {
      "text/plain": [
       "array([[1, 0, 0],\n",
       "       [4, 0, 0],\n",
       "       [7, 8, 9]])"
      ]
     },
     "execution_count": 51,
     "metadata": {},
     "output_type": "execute_result"
    }
   ],
   "source": [
    "arr2d[:2, 1:] = 0\n",
    "arr2d"
   ]
  },
  {
   "cell_type": "code",
   "execution_count": 52,
   "id": "955fd758",
   "metadata": {},
   "outputs": [],
   "source": [
    "b = arr[1:3].copy()"
   ]
  },
  {
   "cell_type": "code",
   "execution_count": 53,
   "id": "fc3da613",
   "metadata": {},
   "outputs": [],
   "source": [
    "b[:] = 999"
   ]
  },
  {
   "cell_type": "code",
   "execution_count": 54,
   "id": "13751d4f",
   "metadata": {},
   "outputs": [
    {
     "data": {
      "text/plain": [
       "array([ 0,  1,  2,  3,  4, 64, 64, 64,  8,  9])"
      ]
     },
     "execution_count": 54,
     "metadata": {},
     "output_type": "execute_result"
    }
   ],
   "source": [
    "arr"
   ]
  },
  {
   "cell_type": "code",
   "execution_count": 55,
   "id": "6f42b32a",
   "metadata": {},
   "outputs": [
    {
     "data": {
      "text/plain": [
       "array([ 1,  2,  3,  4, 64])"
      ]
     },
     "execution_count": 55,
     "metadata": {},
     "output_type": "execute_result"
    }
   ],
   "source": [
    "#슬라이싱을 통한 인덱싱 = 뷰\n",
    "arr\n",
    "arr[1:6]"
   ]
  },
  {
   "cell_type": "markdown",
   "id": "f8c02ac7",
   "metadata": {},
   "source": [
    "### 배열 요약 정리\n",
    "\n",
    "1) arr[ : 2]\n",
    "우선 arr[n]의 형태는 기본적으로 행을 기준으로 한다. 여기에서 :2 라고 명시한 부분은 \"2번째 행까지\"로 적용되므로 처음 2개의 행이 나타나게 된다.\n",
    "\n",
    " \n",
    "\n",
    "2) arr[:2, 1:] \n",
    "행은 두번째 행까지, 열은 1번자리 열부터 선택한다. (원래 시작은 0번자리 열)\n",
    "\n",
    " \n",
    "\n",
    "3) arr[ : , :1]\n",
    "앞의 행 조건에서는 모든 행을 다 선택하고, 열을 선택할 때에는 첫번째 열까지 선택한다. 1, 4, 11이 나타나는 것을 확인할 수 있다.\n",
    "\n",
    " \n",
    "\n",
    "4) arr[1,:2] \n",
    "첫번째 행에서, 2번째 열까지 선택한다. [4,5]를 얻는다.\n",
    "\n",
    " \n",
    "\n",
    "5)arr[:,:2]\n",
    "행은 모든 행을 선택하고, 열은 두번째 열까지 선택한다. "
   ]
  },
  {
   "cell_type": "markdown",
   "id": "f16a82df",
   "metadata": {},
   "source": [
    "# Boolean Indexing"
   ]
  },
  {
   "cell_type": "code",
   "execution_count": 56,
   "id": "edfd0db8",
   "metadata": {},
   "outputs": [
    {
     "data": {
      "text/plain": [
       "array([[ 0.0929,  0.2817,  0.769 ,  1.2464],\n",
       "       [ 1.0072, -1.2962,  0.275 ,  0.2289],\n",
       "       [ 1.3529,  0.8864, -2.0016, -0.3718],\n",
       "       [ 1.669 , -0.4386, -0.5397,  0.477 ],\n",
       "       [ 3.2489, -1.0212, -0.5771,  0.1241],\n",
       "       [ 0.3026,  0.5238,  0.0009,  1.3438],\n",
       "       [-0.7135, -0.8312, -2.3702, -1.8608]])"
      ]
     },
     "execution_count": 56,
     "metadata": {},
     "output_type": "execute_result"
    }
   ],
   "source": [
    "names = np.array(['Bob', 'Joe', 'will', 'Bob', 'will', 'Joe', 'Joe'])\n",
    "data = np.random.randn(7, 4)\n",
    "names\n",
    "data"
   ]
  },
  {
   "cell_type": "markdown",
   "id": "6864ea8d",
   "metadata": {},
   "source": [
    "만약에 전체 로우에서 'Bob'과 같은 이름을 선택하려면 산술 연산과 마찬가지로 배열에 대한 비교 연산(== 같은)도 벡터화되므로 names를 'Bob'문자열과 비교하면 불리언 배열을 반환한다."
   ]
  },
  {
   "cell_type": "code",
   "execution_count": 57,
   "id": "b0c6f3da",
   "metadata": {},
   "outputs": [
    {
     "data": {
      "text/plain": [
       "array([ True, False, False,  True, False, False, False])"
      ]
     },
     "execution_count": 57,
     "metadata": {},
     "output_type": "execute_result"
    }
   ],
   "source": [
    "names == 'Bob'"
   ]
  },
  {
   "cell_type": "markdown",
   "id": "437df17f",
   "metadata": {},
   "source": [
    "이 불리언 배열은 배열의 색인으로 사용할 수 있다."
   ]
  },
  {
   "cell_type": "code",
   "execution_count": 58,
   "id": "daf3202c",
   "metadata": {},
   "outputs": [
    {
     "data": {
      "text/plain": [
       "array([[ 0.0929,  0.2817,  0.769 ,  1.2464],\n",
       "       [ 1.669 , -0.4386, -0.5397,  0.477 ]])"
      ]
     },
     "execution_count": 58,
     "metadata": {},
     "output_type": "execute_result"
    }
   ],
   "source": [
    "data[names == 'Bob']"
   ]
  },
  {
   "cell_type": "markdown",
   "id": "f2af829d",
   "metadata": {},
   "source": [
    "불리언 배열은 반드시 색인하려는 축의 길이와 동일한 길이를 가져야 한다.\n",
    "\n",
    "불리언 배열 색인도 슬라이스나 요소를 선택하는데 짜 맞출 수 있다."
   ]
  },
  {
   "cell_type": "code",
   "execution_count": 59,
   "id": "250e95c1",
   "metadata": {},
   "outputs": [
    {
     "data": {
      "text/plain": [
       "array([[ 0.769 ,  1.2464],\n",
       "       [-0.5397,  0.477 ]])"
      ]
     },
     "execution_count": 59,
     "metadata": {},
     "output_type": "execute_result"
    }
   ],
   "source": [
    "data[names == 'Bob', 2:]"
   ]
  },
  {
   "cell_type": "code",
   "execution_count": 60,
   "id": "4f4a7e3c",
   "metadata": {},
   "outputs": [
    {
     "data": {
      "text/plain": [
       "array([1.2464, 0.477 ])"
      ]
     },
     "execution_count": 60,
     "metadata": {},
     "output_type": "execute_result"
    }
   ],
   "source": [
    "data[names == 'Bob', 3]"
   ]
  },
  {
   "cell_type": "markdown",
   "id": "e7400adb",
   "metadata": {},
   "source": [
    "'Bob'이 아닌 요소들을 선택하려면 != 연산자를 사용하거나 ~를 사용해서 조건절을 부인하면 된다."
   ]
  },
  {
   "cell_type": "code",
   "execution_count": 61,
   "id": "5d53349d",
   "metadata": {},
   "outputs": [
    {
     "data": {
      "text/plain": [
       "array([False,  True,  True, False,  True,  True,  True])"
      ]
     },
     "execution_count": 61,
     "metadata": {},
     "output_type": "execute_result"
    }
   ],
   "source": [
    "names != 'Bob'"
   ]
  },
  {
   "cell_type": "code",
   "execution_count": 62,
   "id": "39169826",
   "metadata": {},
   "outputs": [
    {
     "data": {
      "text/plain": [
       "array([[ 1.0072, -1.2962,  0.275 ,  0.2289],\n",
       "       [ 1.3529,  0.8864, -2.0016, -0.3718],\n",
       "       [ 3.2489, -1.0212, -0.5771,  0.1241],\n",
       "       [ 0.3026,  0.5238,  0.0009,  1.3438],\n",
       "       [-0.7135, -0.8312, -2.3702, -1.8608]])"
      ]
     },
     "execution_count": 62,
     "metadata": {},
     "output_type": "execute_result"
    }
   ],
   "source": [
    "data[~(names == 'Bob')]"
   ]
  },
  {
   "cell_type": "markdown",
   "id": "21a2a1c6",
   "metadata": {},
   "source": [
    "\" ~ \"을 이용해서 names != 'Bob'과 동일한 기능을 수행할 수 있다."
   ]
  },
  {
   "cell_type": "markdown",
   "id": "09c823b5",
   "metadata": {},
   "source": [
    "~ 연산자는 일반적인 조건을 반대로 쓰고 싶을 때 유용하다."
   ]
  },
  {
   "cell_type": "code",
   "execution_count": 63,
   "id": "4c38473e",
   "metadata": {},
   "outputs": [
    {
     "data": {
      "text/plain": [
       "array([[ 1.0072, -1.2962,  0.275 ,  0.2289],\n",
       "       [ 1.3529,  0.8864, -2.0016, -0.3718],\n",
       "       [ 3.2489, -1.0212, -0.5771,  0.1241],\n",
       "       [ 0.3026,  0.5238,  0.0009,  1.3438],\n",
       "       [-0.7135, -0.8312, -2.3702, -1.8608]])"
      ]
     },
     "execution_count": 63,
     "metadata": {},
     "output_type": "execute_result"
    }
   ],
   "source": [
    "cond = names == 'Bob'\n",
    "data[~cond]"
   ]
  },
  {
   "cell_type": "markdown",
   "id": "8afde8a3",
   "metadata": {},
   "source": [
    "세 가지 이름 중에서 두 가지 이름을 선택하려면 &(and)나 |(or)같은 논리 연산자를 사용한 여러 개의 불리언 조건을 사용하면 된다."
   ]
  },
  {
   "cell_type": "code",
   "execution_count": 64,
   "id": "fa0bedf5",
   "metadata": {},
   "outputs": [
    {
     "data": {
      "text/plain": [
       "array([ True, False,  True,  True,  True, False, False])"
      ]
     },
     "execution_count": 64,
     "metadata": {},
     "output_type": "execute_result"
    }
   ],
   "source": [
    "mask = (names == 'Bob') | (names == 'will')\n",
    "mask"
   ]
  },
  {
   "cell_type": "markdown",
   "id": "13911504",
   "metadata": {},
   "source": [
    "배열에 불리언 색인을 이용해서 데이터를 선택하면 반환되는 배열의 내용이 바뀌지 않더라도 항상 데이터 복사가 발생한다."
   ]
  },
  {
   "cell_type": "code",
   "execution_count": 65,
   "id": "a669177b",
   "metadata": {},
   "outputs": [
    {
     "data": {
      "text/plain": [
       "array([[ 0.0929,  0.2817,  0.769 ,  1.2464],\n",
       "       [ 1.3529,  0.8864, -2.0016, -0.3718],\n",
       "       [ 1.669 , -0.4386, -0.5397,  0.477 ],\n",
       "       [ 3.2489, -1.0212, -0.5771,  0.1241]])"
      ]
     },
     "execution_count": 65,
     "metadata": {},
     "output_type": "execute_result"
    }
   ],
   "source": [
    "data[mask]"
   ]
  },
  {
   "cell_type": "code",
   "execution_count": 66,
   "id": "0993505d",
   "metadata": {},
   "outputs": [
    {
     "data": {
      "text/plain": [
       "array([[0.0929, 0.2817, 0.769 , 1.2464],\n",
       "       [1.0072, 0.    , 0.275 , 0.2289],\n",
       "       [1.3529, 0.8864, 0.    , 0.    ],\n",
       "       [1.669 , 0.    , 0.    , 0.477 ],\n",
       "       [3.2489, 0.    , 0.    , 0.1241],\n",
       "       [0.3026, 0.5238, 0.0009, 1.3438],\n",
       "       [0.    , 0.    , 0.    , 0.    ]])"
      ]
     },
     "execution_count": 66,
     "metadata": {},
     "output_type": "execute_result"
    }
   ],
   "source": [
    "data[data < 0] = 0\n",
    "data\n",
    "\n",
    "#data에 저장된 모든 음수 0으로 대입"
   ]
  },
  {
   "cell_type": "markdown",
   "id": "e6efa1c9",
   "metadata": {},
   "source": [
    "data에 저장된 모든 음수 0으로 대입"
   ]
  },
  {
   "cell_type": "markdown",
   "id": "94011087",
   "metadata": {},
   "source": [
    "# -----------------------------------------------"
   ]
  },
  {
   "cell_type": "markdown",
   "id": "f79d10bd",
   "metadata": {},
   "source": [
    "# 시험 나온대요!"
   ]
  },
  {
   "cell_type": "markdown",
   "id": "4fafac65",
   "metadata": {},
   "source": [
    "* 불리언 인덱싱으로 새로운 객체를 만들면 복사본을 반환함"
   ]
  },
  {
   "cell_type": "code",
   "execution_count": 67,
   "id": "4861435a",
   "metadata": {},
   "outputs": [
    {
     "data": {
      "text/plain": [
       "array([[-0.8608,  0.5601, -1.2659,  0.1198],\n",
       "       [-1.0635,  0.3329, -2.3594, -0.1995],\n",
       "       [-1.542 , -0.9707, -1.307 ,  0.2863],\n",
       "       [ 0.378 , -0.7539,  0.3313,  1.3497],\n",
       "       [ 0.0699,  0.2467, -0.0119,  1.0048],\n",
       "       [ 1.3272, -0.9193, -1.5491,  0.0222],\n",
       "       [ 0.7584, -0.6605,  0.8626, -0.01  ]])"
      ]
     },
     "execution_count": 67,
     "metadata": {},
     "output_type": "execute_result"
    }
   ],
   "source": [
    "data = np.random.randn(7, 4)\n",
    "data"
   ]
  },
  {
   "cell_type": "code",
   "execution_count": 68,
   "id": "ac0de51a",
   "metadata": {},
   "outputs": [
    {
     "data": {
      "text/plain": [
       "array([-0.8608, -1.2659, -1.0635, -2.3594, -0.1995, -1.542 , -0.9707,\n",
       "       -1.307 , -0.7539, -0.0119, -0.9193, -1.5491, -0.6605, -0.01  ])"
      ]
     },
     "execution_count": 68,
     "metadata": {},
     "output_type": "execute_result"
    }
   ],
   "source": [
    "copied = data[data < 0]\n",
    "copied[:]"
   ]
  },
  {
   "cell_type": "code",
   "execution_count": 69,
   "id": "496c7002",
   "metadata": {},
   "outputs": [
    {
     "data": {
      "text/plain": [
       "array([[-0.8608,  0.5601, -1.2659,  0.1198],\n",
       "       [-1.0635,  0.3329, -2.3594, -0.1995],\n",
       "       [-1.542 , -0.9707, -1.307 ,  0.2863],\n",
       "       [ 0.378 , -0.7539,  0.3313,  1.3497],\n",
       "       [ 0.0699,  0.2467, -0.0119,  1.0048],\n",
       "       [ 1.3272, -0.9193, -1.5491,  0.0222],\n",
       "       [ 0.7584, -0.6605,  0.8626, -0.01  ]])"
      ]
     },
     "execution_count": 69,
     "metadata": {},
     "output_type": "execute_result"
    }
   ],
   "source": [
    "data"
   ]
  },
  {
   "cell_type": "code",
   "execution_count": 70,
   "id": "77f22c9b",
   "metadata": {},
   "outputs": [
    {
     "data": {
      "text/plain": [
       "array([-0.8608, -1.2659, -1.0635, -2.3594, -0.1995, -1.542 , -0.9707,\n",
       "       -1.307 , -0.7539, -0.0119, -0.9193, -1.5491, -0.6605, -0.01  ])"
      ]
     },
     "execution_count": 70,
     "metadata": {},
     "output_type": "execute_result"
    }
   ],
   "source": [
    "copied"
   ]
  },
  {
   "cell_type": "markdown",
   "id": "5b21fcc2",
   "metadata": {},
   "source": [
    "* Boolean indexing이 아니라, Slice indexing으로 추출할 경우 Copy가 아닌 View를 생성함"
   ]
  },
  {
   "cell_type": "code",
   "execution_count": 71,
   "id": "4ab4fa43",
   "metadata": {},
   "outputs": [],
   "source": [
    "data = np.random.randn(7, 4)"
   ]
  },
  {
   "cell_type": "code",
   "execution_count": 72,
   "id": "58ccdc64",
   "metadata": {},
   "outputs": [],
   "source": [
    "copied = data[0:3,1:3]\n",
    "copied[:] = 10"
   ]
  },
  {
   "cell_type": "code",
   "execution_count": 73,
   "id": "efcedba7",
   "metadata": {},
   "outputs": [
    {
     "data": {
      "text/plain": [
       "array([[10., 10.],\n",
       "       [10., 10.],\n",
       "       [10., 10.]])"
      ]
     },
     "execution_count": 73,
     "metadata": {},
     "output_type": "execute_result"
    }
   ],
   "source": [
    "copied"
   ]
  },
  {
   "cell_type": "code",
   "execution_count": 74,
   "id": "ef596db1",
   "metadata": {},
   "outputs": [
    {
     "data": {
      "text/plain": [
       "array([[ 0.05  , 10.    , 10.    , -0.9559],\n",
       "       [-0.0235, 10.    , 10.    , -1.2183],\n",
       "       [-1.3326, 10.    , 10.    ,  0.69  ],\n",
       "       [ 1.0015, -0.5031, -0.6223, -0.9212],\n",
       "       [-0.7262,  0.2229,  0.0513, -1.1577],\n",
       "       [ 0.8167,  0.4336,  1.0107,  1.8249],\n",
       "       [-0.9975,  0.8506, -0.1316,  0.9124]])"
      ]
     },
     "execution_count": 74,
     "metadata": {},
     "output_type": "execute_result"
    }
   ],
   "source": [
    "data"
   ]
  },
  {
   "cell_type": "markdown",
   "id": "fbef3ef9",
   "metadata": {},
   "source": [
    "# ---------------------------------------------"
   ]
  },
  {
   "cell_type": "code",
   "execution_count": 75,
   "id": "ca40efb7",
   "metadata": {},
   "outputs": [
    {
     "data": {
      "text/plain": [
       "array([[ 7.    ,  7.    ,  7.    ,  7.    ],\n",
       "       [-0.0235, 10.    , 10.    , -1.2183],\n",
       "       [ 7.    ,  7.    ,  7.    ,  7.    ],\n",
       "       [ 7.    ,  7.    ,  7.    ,  7.    ],\n",
       "       [ 7.    ,  7.    ,  7.    ,  7.    ],\n",
       "       [ 0.8167,  0.4336,  1.0107,  1.8249],\n",
       "       [-0.9975,  0.8506, -0.1316,  0.9124]])"
      ]
     },
     "execution_count": 75,
     "metadata": {},
     "output_type": "execute_result"
    }
   ],
   "source": [
    "data[names != 'Joe'] = 7\n",
    "data\n",
    "\n",
    "# != -> 'Joe'가 아닌 요소들을 선택"
   ]
  },
  {
   "cell_type": "markdown",
   "id": "f416ce69",
   "metadata": {},
   "source": [
    "'Joe'가 아닌 요소들을 선택"
   ]
  },
  {
   "cell_type": "markdown",
   "id": "a04f6fb4",
   "metadata": {},
   "source": [
    "# Fancy Indexing"
   ]
  },
  {
   "cell_type": "code",
   "execution_count": 76,
   "id": "52a57836",
   "metadata": {},
   "outputs": [
    {
     "data": {
      "text/plain": [
       "array([[0., 0., 0., 0.],\n",
       "       [1., 1., 1., 1.],\n",
       "       [2., 2., 2., 2.],\n",
       "       [3., 3., 3., 3.],\n",
       "       [4., 4., 4., 4.],\n",
       "       [5., 5., 5., 5.],\n",
       "       [6., 6., 6., 6.],\n",
       "       [7., 7., 7., 7.]])"
      ]
     },
     "execution_count": 76,
     "metadata": {},
     "output_type": "execute_result"
    }
   ],
   "source": [
    "arr = np.empty((8, 4))\n",
    "for i in range(8):\n",
    "    arr[i] = i\n",
    "arr"
   ]
  },
  {
   "cell_type": "markdown",
   "id": "5a11b806",
   "metadata": {},
   "source": [
    "특정한 순서로 로우를 선택하고 싶다면 그냥 원하는 순서가 명시된 정수가 담긴 ndarray나 리스트를 넘기면 된다."
   ]
  },
  {
   "cell_type": "code",
   "execution_count": 77,
   "id": "a7f99ed8",
   "metadata": {},
   "outputs": [
    {
     "data": {
      "text/plain": [
       "array([[4., 4., 4., 4.],\n",
       "       [3., 3., 3., 3.],\n",
       "       [0., 0., 0., 0.],\n",
       "       [6., 6., 6., 6.]])"
      ]
     },
     "execution_count": 77,
     "metadata": {},
     "output_type": "execute_result"
    }
   ],
   "source": [
    "arr[[4, 3, 0, 6]]"
   ]
  },
  {
   "cell_type": "markdown",
   "id": "f9bd0050",
   "metadata": {},
   "source": [
    "색인으로 음수를 사용하면 끝에서부터 로우를 선택한다."
   ]
  },
  {
   "cell_type": "code",
   "execution_count": 78,
   "id": "30b6985c",
   "metadata": {},
   "outputs": [
    {
     "data": {
      "text/plain": [
       "array([[5., 5., 5., 5.],\n",
       "       [3., 3., 3., 3.],\n",
       "       [1., 1., 1., 1.]])"
      ]
     },
     "execution_count": 78,
     "metadata": {},
     "output_type": "execute_result"
    }
   ],
   "source": [
    "arr[[-3, -5, -7]]"
   ]
  },
  {
   "cell_type": "markdown",
   "id": "27f83484",
   "metadata": {},
   "source": [
    "다차원 색인 배열을 넘기는 것 ~ 각각의 색인 튜플에 대응하는 1차원 배열이 선택된다."
   ]
  },
  {
   "cell_type": "code",
   "execution_count": 79,
   "id": "3dd1cf46",
   "metadata": {},
   "outputs": [
    {
     "data": {
      "text/plain": [
       "array([[ 0,  1,  2,  3],\n",
       "       [ 4,  5,  6,  7],\n",
       "       [ 8,  9, 10, 11],\n",
       "       [12, 13, 14, 15],\n",
       "       [16, 17, 18, 19],\n",
       "       [20, 21, 22, 23],\n",
       "       [24, 25, 26, 27],\n",
       "       [28, 29, 30, 31]])"
      ]
     },
     "execution_count": 79,
     "metadata": {},
     "output_type": "execute_result"
    }
   ],
   "source": [
    "arr = np.arange(32).reshape((8, 4))\n",
    "arr"
   ]
  },
  {
   "cell_type": "code",
   "execution_count": 80,
   "id": "544e3b2e",
   "metadata": {},
   "outputs": [
    {
     "data": {
      "text/plain": [
       "array([ 4, 23, 29, 10])"
      ]
     },
     "execution_count": 80,
     "metadata": {},
     "output_type": "execute_result"
    }
   ],
   "source": [
    "arr[[1, 5, 7, 2], [0, 3, 1, 2]]"
   ]
  },
  {
   "cell_type": "markdown",
   "id": "aec03013",
   "metadata": {},
   "source": [
    "배열이 몇 차원이든지 팬시 색인의 결과는 항상 1차원이다."
   ]
  },
  {
   "cell_type": "code",
   "execution_count": 81,
   "id": "b5b7f95d",
   "metadata": {},
   "outputs": [
    {
     "data": {
      "text/plain": [
       "array([[ 4,  7,  5,  6],\n",
       "       [20, 23, 21, 22],\n",
       "       [28, 31, 29, 30],\n",
       "       [ 8, 11,  9, 10]])"
      ]
     },
     "execution_count": 81,
     "metadata": {},
     "output_type": "execute_result"
    }
   ],
   "source": [
    "arr[[1, 5, 7, 2]][:, [0, 3, 1, 2]]"
   ]
  },
  {
   "cell_type": "markdown",
   "id": "938202d0",
   "metadata": {},
   "source": [
    "팬시 색인은 슬라이싱과는 달리 선택된 데이터를 새로운 배열로 복사한다."
   ]
  },
  {
   "cell_type": "markdown",
   "id": "2cca2461",
   "metadata": {},
   "source": [
    "* Copy vs View"
   ]
  },
  {
   "cell_type": "code",
   "execution_count": 82,
   "id": "7e543f08",
   "metadata": {},
   "outputs": [
    {
     "data": {
      "text/plain": [
       "array([[ 0,  1,  2,  3],\n",
       "       [ 4,  5,  6,  7],\n",
       "       [ 8,  9, 10, 11],\n",
       "       [12, 13, 14, 15],\n",
       "       [16, 17, 18, 19],\n",
       "       [20, 21, 22, 23],\n",
       "       [24, 25, 26, 27],\n",
       "       [28, 29, 30, 31]])"
      ]
     },
     "execution_count": 82,
     "metadata": {},
     "output_type": "execute_result"
    }
   ],
   "source": [
    "arr = np.arange(32).reshape((8, 4))\n",
    "arr"
   ]
  },
  {
   "cell_type": "code",
   "execution_count": 83,
   "id": "6d54b7f9",
   "metadata": {},
   "outputs": [
    {
     "data": {
      "text/plain": [
       "array([[999,   1,   2,   3],\n",
       "       [  4,   5,   6,   7],\n",
       "       [  8,   9,  10,  11],\n",
       "       [ 12,  13,  14, 999],\n",
       "       [ 16,  17,  18,  19],\n",
       "       [ 20,  21,  22,  23],\n",
       "       [ 24,  25,  26,  27],\n",
       "       [ 28,  29,  30,  31]])"
      ]
     },
     "execution_count": 83,
     "metadata": {},
     "output_type": "execute_result"
    }
   ],
   "source": [
    "arr[[0,3], [0, 3]] = 999\n",
    "arr"
   ]
  },
  {
   "cell_type": "code",
   "execution_count": 84,
   "id": "49954f4f",
   "metadata": {},
   "outputs": [],
   "source": [
    "arr = np.arange(32).reshape((8, 4))\n",
    "copied = arr[[0,3], [0,3]]\n",
    "copied[:] = 999"
   ]
  },
  {
   "cell_type": "code",
   "execution_count": 85,
   "id": "fda807a1",
   "metadata": {},
   "outputs": [
    {
     "data": {
      "text/plain": [
       "array([999, 999])"
      ]
     },
     "execution_count": 85,
     "metadata": {},
     "output_type": "execute_result"
    }
   ],
   "source": [
    "copied"
   ]
  },
  {
   "cell_type": "code",
   "execution_count": 86,
   "id": "1a398812",
   "metadata": {},
   "outputs": [
    {
     "data": {
      "text/plain": [
       "array([[ 0,  1,  2,  3],\n",
       "       [ 4,  5,  6,  7],\n",
       "       [ 8,  9, 10, 11],\n",
       "       [12, 13, 14, 15],\n",
       "       [16, 17, 18, 19],\n",
       "       [20, 21, 22, 23],\n",
       "       [24, 25, 26, 27],\n",
       "       [28, 29, 30, 31]])"
      ]
     },
     "execution_count": 86,
     "metadata": {},
     "output_type": "execute_result"
    }
   ],
   "source": [
    "arr"
   ]
  },
  {
   "cell_type": "code",
   "execution_count": 87,
   "id": "259ea1cf",
   "metadata": {},
   "outputs": [],
   "source": [
    "arr = np.arange(32).reshape((8, 4))\n",
    "arr2 = arr[0:3, 0:3]\n",
    "arr2[:] = 999"
   ]
  },
  {
   "cell_type": "code",
   "execution_count": 88,
   "id": "7f9bc45b",
   "metadata": {},
   "outputs": [
    {
     "data": {
      "text/plain": [
       "array([[999, 999, 999],\n",
       "       [999, 999, 999],\n",
       "       [999, 999, 999]])"
      ]
     },
     "execution_count": 88,
     "metadata": {},
     "output_type": "execute_result"
    }
   ],
   "source": [
    "arr2"
   ]
  },
  {
   "cell_type": "markdown",
   "id": "3db4a1d0",
   "metadata": {},
   "source": [
    "# Transposing Arrays and Swapping Axes\n",
    "# 배열 전치와 축 바꾸기"
   ]
  },
  {
   "cell_type": "code",
   "execution_count": 89,
   "id": "8ff55687",
   "metadata": {},
   "outputs": [],
   "source": [
    "arr = np.arange(15).reshape((3, 5))"
   ]
  },
  {
   "cell_type": "markdown",
   "id": "959d32da",
   "metadata": {},
   "source": [
    "행렬의 내적은 np.dot을 이용해서 구할 수 있다."
   ]
  },
  {
   "cell_type": "code",
   "execution_count": 90,
   "id": "d3d28a5b",
   "metadata": {},
   "outputs": [
    {
     "data": {
      "text/plain": [
       "array([[4.0899, 0.1308, 1.5352],\n",
       "       [0.1308, 9.782 , 1.7399],\n",
       "       [1.5352, 1.7399, 2.4994]])"
      ]
     },
     "execution_count": 90,
     "metadata": {},
     "output_type": "execute_result"
    }
   ],
   "source": [
    "arr = np.random.randn(6, 3)\n",
    "arr\n",
    "np.dot(arr.T, arr)"
   ]
  },
  {
   "cell_type": "markdown",
   "id": "2e4e3dd7",
   "metadata": {},
   "source": [
    "다차원 배열의 경우 transpose 메서드는 튜플로 축 번호를 받아서 치환한다."
   ]
  },
  {
   "cell_type": "code",
   "execution_count": 91,
   "id": "683834e2",
   "metadata": {},
   "outputs": [
    {
     "data": {
      "text/plain": [
       "array([[[ 0,  1,  2,  3],\n",
       "        [ 8,  9, 10, 11]],\n",
       "\n",
       "       [[ 4,  5,  6,  7],\n",
       "        [12, 13, 14, 15]]])"
      ]
     },
     "execution_count": 91,
     "metadata": {},
     "output_type": "execute_result"
    }
   ],
   "source": [
    "arr = np.arange(16).reshape((2, 2, 4))\n",
    "arr\n",
    "arr.transpose((1, 0, 2))"
   ]
  },
  {
   "cell_type": "markdown",
   "id": "89e2ed74",
   "metadata": {},
   "source": [
    "T 속성을 이용하는 간단한 전치는 축을 뒤바꾸는 특별한 경우다. ndarray에는 swapaxes라는 메서드가 있는데 두 개의 축 번호를 받아서 배열을 뒤바꾼다."
   ]
  },
  {
   "cell_type": "code",
   "execution_count": 92,
   "id": "e674ef59",
   "metadata": {},
   "outputs": [
    {
     "data": {
      "text/plain": [
       "array([[[ 0,  4],\n",
       "        [ 1,  5],\n",
       "        [ 2,  6],\n",
       "        [ 3,  7]],\n",
       "\n",
       "       [[ 8, 12],\n",
       "        [ 9, 13],\n",
       "        [10, 14],\n",
       "        [11, 15]]])"
      ]
     },
     "execution_count": 92,
     "metadata": {},
     "output_type": "execute_result"
    }
   ],
   "source": [
    "arr\n",
    "arr.swapaxes(1, 2)"
   ]
  },
  {
   "cell_type": "markdown",
   "id": "4737ce85",
   "metadata": {},
   "source": [
    "swapaxes도 마찬가지로 데이터를 복사하지 않고 원래 데이터에 대한 뷰를 반환한다."
   ]
  },
  {
   "cell_type": "markdown",
   "id": "78b409bd",
   "metadata": {},
   "source": [
    "# Universal Functions : Fast Element-Wise Array Functions\n",
    "\n",
    "# 유니버셜 함수 : 배열의 각 원소를 빠르게 처리하는 함수"
   ]
  },
  {
   "cell_type": "code",
   "execution_count": 93,
   "id": "4b57b22e",
   "metadata": {},
   "outputs": [
    {
     "data": {
      "text/plain": [
       "array([   1.    ,    2.7183,    7.3891,   20.0855,   54.5982,  148.4132,\n",
       "        403.4288, 1096.6332, 2980.958 , 8103.0839])"
      ]
     },
     "execution_count": 93,
     "metadata": {},
     "output_type": "execute_result"
    }
   ],
   "source": [
    "arr= np.arange(10)\n",
    "arr\n",
    "np.sqrt(arr)\n",
    "np.exp(arr)"
   ]
  },
  {
   "cell_type": "code",
   "execution_count": 94,
   "id": "aa3e2c6a",
   "metadata": {},
   "outputs": [
    {
     "data": {
      "text/plain": [
       "array([ 0.2205,  1.5817,  0.6692,  0.457 ,  0.93  , -1.1668,  0.3536,\n",
       "        0.7021])"
      ]
     },
     "execution_count": 94,
     "metadata": {},
     "output_type": "execute_result"
    }
   ],
   "source": [
    "x = np.random.randn(8)\n",
    "y = np.random.randn(8)\n",
    "x\n",
    "y\n",
    "np.maximum(x, y)"
   ]
  },
  {
   "cell_type": "code",
   "execution_count": 95,
   "id": "927fae4c",
   "metadata": {},
   "outputs": [
    {
     "data": {
      "text/plain": [
       "array([-1., -0.,  0., -3., -2., -0., -6.])"
      ]
     },
     "execution_count": 95,
     "metadata": {},
     "output_type": "execute_result"
    }
   ],
   "source": [
    "arr = np.random.randn(7) * 5\n",
    "arr\n",
    "remainder, whole_part = np.modf(arr)\n",
    "remainder\n",
    "whole_part"
   ]
  },
  {
   "cell_type": "code",
   "execution_count": 96,
   "id": "6d27f271",
   "metadata": {},
   "outputs": [
    {
     "name": "stderr",
     "output_type": "stream",
     "text": [
      "/Users/otaehun/opt/anaconda3/envs/test1/lib/python3.7/site-packages/ipykernel_launcher.py:2: RuntimeWarning: invalid value encountered in sqrt\n",
      "  \n",
      "/Users/otaehun/opt/anaconda3/envs/test1/lib/python3.7/site-packages/ipykernel_launcher.py:3: RuntimeWarning: invalid value encountered in sqrt\n",
      "  This is separate from the ipykernel package so we can avoid doing imports until\n"
     ]
    },
    {
     "data": {
      "text/plain": [
       "array([   nan,    nan, 0.7337,    nan,    nan,    nan,    nan])"
      ]
     },
     "execution_count": 96,
     "metadata": {},
     "output_type": "execute_result"
    }
   ],
   "source": [
    "arr\n",
    "np.sqrt(arr)\n",
    "np.sqrt(arr, arr)\n",
    "arr"
   ]
  },
  {
   "cell_type": "markdown",
   "id": "0ff82732",
   "metadata": {},
   "source": [
    "# Array-Oriented Programming with Arrays\n",
    "\n",
    "# 배열을 이용한 배열지향프로그래밍"
   ]
  },
  {
   "cell_type": "code",
   "execution_count": 97,
   "id": "bf2d01dc",
   "metadata": {},
   "outputs": [
    {
     "data": {
      "text/plain": [
       "array([[-5.  , -5.  , -5.  , ..., -5.  , -5.  , -5.  ],\n",
       "       [-4.99, -4.99, -4.99, ..., -4.99, -4.99, -4.99],\n",
       "       [-4.98, -4.98, -4.98, ..., -4.98, -4.98, -4.98],\n",
       "       ...,\n",
       "       [ 4.97,  4.97,  4.97, ...,  4.97,  4.97,  4.97],\n",
       "       [ 4.98,  4.98,  4.98, ...,  4.98,  4.98,  4.98],\n",
       "       [ 4.99,  4.99,  4.99, ...,  4.99,  4.99,  4.99]])"
      ]
     },
     "execution_count": 97,
     "metadata": {},
     "output_type": "execute_result"
    }
   ],
   "source": [
    "points = np.arange(-5, 5, 0.01) #1000 equally spaced points\n",
    "xs, ys = np.meshgrid(points, points)\n",
    "ys"
   ]
  },
  {
   "cell_type": "code",
   "execution_count": 98,
   "id": "41352794",
   "metadata": {},
   "outputs": [
    {
     "data": {
      "text/plain": [
       "array([[7.0711, 7.064 , 7.0569, ..., 7.0499, 7.0569, 7.064 ],\n",
       "       [7.064 , 7.0569, 7.0499, ..., 7.0428, 7.0499, 7.0569],\n",
       "       [7.0569, 7.0499, 7.0428, ..., 7.0357, 7.0428, 7.0499],\n",
       "       ...,\n",
       "       [7.0499, 7.0428, 7.0357, ..., 7.0286, 7.0357, 7.0428],\n",
       "       [7.0569, 7.0499, 7.0428, ..., 7.0357, 7.0428, 7.0499],\n",
       "       [7.064 , 7.0569, 7.0499, ..., 7.0428, 7.0499, 7.0569]])"
      ]
     },
     "execution_count": 98,
     "metadata": {},
     "output_type": "execute_result"
    }
   ],
   "source": [
    "z = np.sqrt(xs ** 2 + ys ** 2)\n",
    "z"
   ]
  },
  {
   "cell_type": "code",
   "execution_count": 99,
   "id": "bb5c6fe7",
   "metadata": {},
   "outputs": [
    {
     "data": {
      "text/plain": [
       "Text(0.5, 1.0, 'Image plot of $\\\\sqrt{x^2 + y^2}$ for a grid of values')"
      ]
     },
     "execution_count": 99,
     "metadata": {},
     "output_type": "execute_result"
    },
    {
     "data": {
      "image/png": "[encoded data removed]",
      "text/plain": [
       "<Figure size 720x432 with 2 Axes>"
      ]
     },
     "metadata": {
      "needs_background": "light"
     },
     "output_type": "display_data"
    }
   ],
   "source": [
    "import matplotlib.pyplot as plt\n",
    "plt.imshow(z, cmap=plt.cm.gray); plt.colorbar()\n",
    "plt.title(\"Image plot of $\\sqrt{x^2 + y^2}$ for a grid of values\")"
   ]
  },
  {
   "cell_type": "code",
   "execution_count": 100,
   "id": "9f955d8f",
   "metadata": {},
   "outputs": [
    {
     "data": {
      "text/plain": [
       "<Figure size 720x432 with 0 Axes>"
      ]
     },
     "metadata": {},
     "output_type": "display_data"
    }
   ],
   "source": [
    "plt.draw()"
   ]
  },
  {
   "cell_type": "code",
   "execution_count": 101,
   "id": "d07215e1",
   "metadata": {},
   "outputs": [],
   "source": [
    "plt.close('all')"
   ]
  },
  {
   "cell_type": "markdown",
   "id": "94310fc4",
   "metadata": {},
   "source": [
    "# Expressing Conditional Logic as Array Operations\n",
    "\n",
    "# 배열 연산으로 조건절 표현하기"
   ]
  },
  {
   "cell_type": "code",
   "execution_count": 102,
   "id": "01dad916",
   "metadata": {},
   "outputs": [],
   "source": [
    "xarr = np.array([1.1, 1.2, 1.3, 1.4, 1.5])\n",
    "yarr = np.array([2.1, 2.2, 2.3, 2.4, 2.5])\n",
    "cond = np.array([True, False, True, True, False])"
   ]
  },
  {
   "cell_type": "code",
   "execution_count": 103,
   "id": "12ebf8c5",
   "metadata": {},
   "outputs": [
    {
     "data": {
      "text/plain": [
       "[1.1, 2.2, 1.3, 1.4, 2.5]"
      ]
     },
     "execution_count": 103,
     "metadata": {},
     "output_type": "execute_result"
    }
   ],
   "source": [
    "result = [(x if c else y)\n",
    "         for x, y, c in zip(xarr, yarr, cond)]\n",
    "result"
   ]
  },
  {
   "cell_type": "markdown",
   "id": "6e8615bd",
   "metadata": {},
   "source": [
    "다차원 배열에서는 사용할 수 없는 문제가 있음"
   ]
  },
  {
   "cell_type": "code",
   "execution_count": 104,
   "id": "2574aea0",
   "metadata": {},
   "outputs": [
    {
     "data": {
      "text/plain": [
       "array([1.1, 2.2, 1.3, 1.4, 2.5])"
      ]
     },
     "execution_count": 104,
     "metadata": {},
     "output_type": "execute_result"
    }
   ],
   "source": [
    "# 퀴즈 나올 수도 있음!!\n",
    "result = np.where(cond, xarr, yarr)\n",
    "result"
   ]
  },
  {
   "cell_type": "markdown",
   "id": "1ece04e7",
   "metadata": {},
   "source": [
    "일반적인 where의 사용은 다른 배열에 기반한 새로운 배열을 생성한다."
   ]
  },
  {
   "cell_type": "code",
   "execution_count": 105,
   "id": "fd5457ef",
   "metadata": {},
   "outputs": [
    {
     "data": {
      "text/plain": [
       "array([[-2,  2,  2,  2],\n",
       "       [ 2,  2, -2, -2],\n",
       "       [ 2, -2,  2,  2],\n",
       "       [-2,  2, -2, -2]])"
      ]
     },
     "execution_count": 105,
     "metadata": {},
     "output_type": "execute_result"
    }
   ],
   "source": [
    "arr = np.random.randn(4, 4)\n",
    "arr\n",
    "arr > 0\n",
    "np.where(arr > 0, 2, -2)"
   ]
  },
  {
   "cell_type": "markdown",
   "id": "f30fafee",
   "metadata": {},
   "source": [
    "np.where를 사용할 때 스칼라 값과 배열을 조합할 수 있다."
   ]
  },
  {
   "cell_type": "code",
   "execution_count": 106,
   "id": "00a30573",
   "metadata": {},
   "outputs": [
    {
     "data": {
      "text/plain": [
       "array([[-1.8008,  2.    ,  2.    ,  2.    ],\n",
       "       [ 2.    ,  2.    , -0.4406, -0.3014],\n",
       "       [ 2.    , -0.824 ,  2.    ,  2.    ],\n",
       "       [-0.6534,  2.    , -0.3917, -0.2723]])"
      ]
     },
     "execution_count": 106,
     "metadata": {},
     "output_type": "execute_result"
    }
   ],
   "source": [
    "np.where(arr > 0, 2, arr) # set only positive value to 2"
   ]
  },
  {
   "cell_type": "markdown",
   "id": "0d469d63",
   "metadata": {},
   "source": [
    "np.where로 넘기는 배열은 그냥 크기만 같은 배열이거나 스칼라 값이 될 수 있다."
   ]
  },
  {
   "cell_type": "markdown",
   "id": "eaf60a54",
   "metadata": {},
   "source": [
    "# Mathmatical and Stastical Methods"
   ]
  },
  {
   "cell_type": "code",
   "execution_count": 107,
   "id": "444ee6cc",
   "metadata": {},
   "outputs": [
    {
     "data": {
      "text/plain": [
       "0.03504731479373441"
      ]
     },
     "execution_count": 107,
     "metadata": {},
     "output_type": "execute_result"
    }
   ],
   "source": [
    "arr = np.random.randn(5, 4)\n",
    "arr\n",
    "arr.mean()\n",
    "np.mean(arr)\n",
    "arr.sum()"
   ]
  },
  {
   "cell_type": "markdown",
   "id": "a7c0adfe",
   "metadata": {},
   "source": [
    "mean, sum 같은 함수는 선택적으로 axis인자를 받아서 해당 axis에 대한 통계를 계산하고 한 치수 낮은 배열을 반환한다."
   ]
  },
  {
   "cell_type": "code",
   "execution_count": 108,
   "id": "e127eae8",
   "metadata": {},
   "outputs": [
    {
     "data": {
      "text/plain": [
       "array([ 0.9582, -1.1846,  1.3271, -1.0656])"
      ]
     },
     "execution_count": 108,
     "metadata": {},
     "output_type": "execute_result"
    }
   ],
   "source": [
    "arr.mean(axis=1)\n",
    "arr.sum(axis=0)"
   ]
  },
  {
   "cell_type": "markdown",
   "id": "f24eff33",
   "metadata": {},
   "source": [
    "arr.sum(0) : 로우의 합을 구하라는 의미\n",
    "\n",
    "arr.mean(1) : 모든 컬럼에서 평균을 구하라는 의미\n",
    "\n",
    "cumsum과 cumprod메서드는 중간 계산값을 담고 있는 배열을 반환한다."
   ]
  },
  {
   "cell_type": "code",
   "execution_count": 109,
   "id": "3ff2b4e0",
   "metadata": {},
   "outputs": [
    {
     "data": {
      "text/plain": [
       "array([ 0,  1,  3,  6, 10, 15, 21, 28])"
      ]
     },
     "execution_count": 109,
     "metadata": {},
     "output_type": "execute_result"
    }
   ],
   "source": [
    "arr = np.array([0, 1, 2, 3, 4, 5, 6, 7])\n",
    "arr.cumsum()"
   ]
  },
  {
   "cell_type": "markdown",
   "id": "b9804b48",
   "metadata": {},
   "source": [
    "cumsum 같은 누산 함수는 같은 크기의 배열을 반환한다."
   ]
  },
  {
   "cell_type": "code",
   "execution_count": 110,
   "id": "027ae345",
   "metadata": {},
   "outputs": [
    {
     "data": {
      "text/plain": [
       "array([[  0,   0,   0],\n",
       "       [  3,  12,  60],\n",
       "       [  6,  42, 336]])"
      ]
     },
     "execution_count": 110,
     "metadata": {},
     "output_type": "execute_result"
    }
   ],
   "source": [
    "arr = np.array([[0, 1, 2], [3, 4, 5], [6, 7, 8]])\n",
    "arr\n",
    "arr.cumsum(axis=0) # arr.cumsum(0)이 생략되어 있음\n",
    "arr.cumprod(axis=1)"
   ]
  },
  {
   "cell_type": "markdown",
   "id": "e6c8f8ef",
   "metadata": {},
   "source": [
    "# Methods for Boolean Arrays"
   ]
  },
  {
   "cell_type": "markdown",
   "id": "361a7aea",
   "metadata": {},
   "source": [
    "이전 메서드의 불리언 값을 1(True) 또는 (False)으로 강제할 수 있다. \n",
    "\n",
    "따라서 sum 메서드를 실행하면 불리언 배열에서 True인 원소의 개수를 셀 수 있다."
   ]
  },
  {
   "cell_type": "code",
   "execution_count": 111,
   "id": "33e391c9",
   "metadata": {},
   "outputs": [
    {
     "data": {
      "text/plain": [
       "42"
      ]
     },
     "execution_count": 111,
     "metadata": {},
     "output_type": "execute_result"
    }
   ],
   "source": [
    "arr = np.random.randn(100)\n",
    "(arr > 0).sum() # Number of positive values"
   ]
  },
  {
   "cell_type": "markdown",
   "id": "bd21650f",
   "metadata": {},
   "source": [
    "any 메서드는 하나 이상의 값이 True인지 검사하고, all 메서드는 모든 원소가 True인지 검사한다."
   ]
  },
  {
   "cell_type": "code",
   "execution_count": 112,
   "id": "9aee2e2c",
   "metadata": {},
   "outputs": [
    {
     "data": {
      "text/plain": [
       "False"
      ]
     },
     "execution_count": 112,
     "metadata": {},
     "output_type": "execute_result"
    }
   ],
   "source": [
    "bools = np.array([False, False, True, False])\n",
    "bools.any()\n",
    "bools.all()"
   ]
  },
  {
   "cell_type": "markdown",
   "id": "583a4bf6",
   "metadata": {},
   "source": [
    "0이 아닌 원소는 모두 True로 간주한다."
   ]
  },
  {
   "cell_type": "code",
   "execution_count": 113,
   "id": "2533613e",
   "metadata": {},
   "outputs": [
    {
     "data": {
      "text/plain": [
       "-8.889243100623073"
      ]
     },
     "execution_count": 113,
     "metadata": {},
     "output_type": "execute_result"
    }
   ],
   "source": [
    "arr = np.random.randn(5, 4)\n",
    "arr\n",
    "arr.mean()\n",
    "np.mean(arr)\n",
    "arr.sum()"
   ]
  },
  {
   "cell_type": "code",
   "execution_count": 114,
   "id": "c4e54a18",
   "metadata": {},
   "outputs": [
    {
     "data": {
      "text/plain": [
       "array([-1.3568, -3.4771, -1.7764, -2.279 ])"
      ]
     },
     "execution_count": 114,
     "metadata": {},
     "output_type": "execute_result"
    }
   ],
   "source": [
    "arr.mean(axis=1)\n",
    "arr.sum(axis=0)"
   ]
  },
  {
   "cell_type": "code",
   "execution_count": 115,
   "id": "a0d98322",
   "metadata": {},
   "outputs": [
    {
     "data": {
      "text/plain": [
       "array([ 0,  1,  3,  6, 10, 15, 21, 28])"
      ]
     },
     "execution_count": 115,
     "metadata": {},
     "output_type": "execute_result"
    }
   ],
   "source": [
    "arr = np.array([0, 1, 2, 3, 4, 5, 6, 7])\n",
    "arr.cumsum()"
   ]
  },
  {
   "cell_type": "markdown",
   "id": "58f54f70",
   "metadata": {},
   "source": [
    "# Sorting"
   ]
  },
  {
   "cell_type": "code",
   "execution_count": 116,
   "id": "d9db1ae7",
   "metadata": {},
   "outputs": [
    {
     "data": {
      "text/plain": [
       "array([-1.2302, -0.8671, -0.437 ,  0.3475,  0.3836,  1.1413])"
      ]
     },
     "execution_count": 116,
     "metadata": {},
     "output_type": "execute_result"
    }
   ],
   "source": [
    "arr = np.random.randn(6)\n",
    "arr\n",
    "arr.sort()\n",
    "arr"
   ]
  },
  {
   "cell_type": "markdown",
   "id": "253fe429",
   "metadata": {},
   "source": [
    "다차원 배열의 정렬은 sort 메서드에 넘긴 축의 값에 따라 1차원 부분을 정렬한다."
   ]
  },
  {
   "cell_type": "code",
   "execution_count": 117,
   "id": "7cf2c251",
   "metadata": {},
   "outputs": [
    {
     "data": {
      "text/plain": [
       "array([[-0.2255,  0.0601,  0.5711],\n",
       "       [-0.3867,  1.3497,  1.3503],\n",
       "       [-1.4102,  0.866 ,  1.7472],\n",
       "       [-0.3782, -0.3458,  0.3801],\n",
       "       [-2.2646,  0.189 ,  1.3233]])"
      ]
     },
     "execution_count": 117,
     "metadata": {},
     "output_type": "execute_result"
    }
   ],
   "source": [
    "arr = np.random.randn(5, 3)\n",
    "arr\n",
    "arr.sort(1)\n",
    "arr"
   ]
  },
  {
   "cell_type": "markdown",
   "id": "829e1562",
   "metadata": {},
   "source": [
    "np.sort 메서드는 배열을 직접 변경하지 않고 정렬된 결과를 가지고 있는 복사본을 반환한다.\n",
    "\n",
    "배열의 분위수를 구하는 쉽고 빠른 방법은 우선 배열을 정렬한 후 특정 분위의 값을 선택하는 것"
   ]
  },
  {
   "cell_type": "code",
   "execution_count": 118,
   "id": "bbaea70c",
   "metadata": {},
   "outputs": [
    {
     "data": {
      "text/plain": [
       "-1.5308984278773312"
      ]
     },
     "execution_count": 118,
     "metadata": {},
     "output_type": "execute_result"
    }
   ],
   "source": [
    "large_arr = np.random.randn(1000)\n",
    "large_arr.sort()\n",
    "large_arr[int(0.05 * len(large_arr))] # 5% 분위수"
   ]
  },
  {
   "cell_type": "markdown",
   "id": "84ce4c61",
   "metadata": {},
   "source": [
    "# Unique and Other Set Logic"
   ]
  },
  {
   "cell_type": "markdown",
   "id": "a00ad2ed",
   "metadata": {},
   "source": [
    "np.unique() : 남은 원소를 정렬된 형태로 반환하는 함수"
   ]
  },
  {
   "cell_type": "code",
   "execution_count": 119,
   "id": "7f253dd0",
   "metadata": {},
   "outputs": [
    {
     "data": {
      "text/plain": [
       "array([1, 2, 3, 4])"
      ]
     },
     "execution_count": 119,
     "metadata": {},
     "output_type": "execute_result"
    }
   ],
   "source": [
    "names = np.array(['Bob', 'Joe', 'will', 'Bob', 'will', 'Joe', 'Joe'])\n",
    "np.unique(names)\n",
    "ints = np.array([3, 3, 3, 2, 2, 1, 1, 4, 4])\n",
    "np.unique(ints)"
   ]
  },
  {
   "cell_type": "code",
   "execution_count": 120,
   "id": "3134d9f0",
   "metadata": {},
   "outputs": [
    {
     "data": {
      "text/plain": [
       "['Bob', 'Joe', 'will']"
      ]
     },
     "execution_count": 120,
     "metadata": {},
     "output_type": "execute_result"
    }
   ],
   "source": [
    "sorted(set(names))"
   ]
  },
  {
   "cell_type": "markdown",
   "id": "141f973b",
   "metadata": {},
   "source": [
    "np.in1d함수는 두 개의 배열을 인자로 받아서 첫 번째 배열의 원소가 두번째 배열의 원소를 포함하는지 나타내는 불리언 배열을 반환한다."
   ]
  },
  {
   "cell_type": "code",
   "execution_count": 121,
   "id": "a16bad68",
   "metadata": {},
   "outputs": [
    {
     "data": {
      "text/plain": [
       "array([ True, False, False,  True,  True, False,  True])"
      ]
     },
     "execution_count": 121,
     "metadata": {},
     "output_type": "execute_result"
    }
   ],
   "source": [
    "values = np.array([6, 0, 0, 3, 2, 5, 6])\n",
    "np.in1d(values, [2, 3, 6])"
   ]
  },
  {
   "cell_type": "markdown",
   "id": "02eaeff5",
   "metadata": {},
   "source": [
    "# 배열 데이터의 파일 입출력"
   ]
  },
  {
   "cell_type": "code",
   "execution_count": 122,
   "id": "b689e12c",
   "metadata": {},
   "outputs": [],
   "source": [
    "arr = np.arange(10)\n",
    "np.save('some_array', arr)"
   ]
  },
  {
   "cell_type": "code",
   "execution_count": 123,
   "id": "2412e336",
   "metadata": {},
   "outputs": [
    {
     "data": {
      "text/plain": [
       "array([0, 1, 2, 3, 4, 5, 6, 7, 8, 9])"
      ]
     },
     "execution_count": 123,
     "metadata": {},
     "output_type": "execute_result"
    }
   ],
   "source": [
    "np.load('some_array.npy')"
   ]
  },
  {
   "cell_type": "code",
   "execution_count": 124,
   "id": "7a087b9c",
   "metadata": {},
   "outputs": [],
   "source": [
    "np.savez('array_archive.npz', a=arr, b=arr)"
   ]
  },
  {
   "cell_type": "code",
   "execution_count": 125,
   "id": "34f8b4d0",
   "metadata": {},
   "outputs": [
    {
     "data": {
      "text/plain": [
       "array([0, 1, 2, 3, 4, 5, 6, 7, 8, 9])"
      ]
     },
     "execution_count": 125,
     "metadata": {},
     "output_type": "execute_result"
    }
   ],
   "source": [
    "arch = np.load('array_archive.npz')\n",
    "arch['b']"
   ]
  },
  {
   "cell_type": "code",
   "execution_count": 126,
   "id": "4c9491a1",
   "metadata": {},
   "outputs": [],
   "source": [
    "np.savez_compressed('arrays_compressed.npz', a=arr, b=arr)"
   ]
  },
  {
   "cell_type": "code",
   "execution_count": 127,
   "id": "fde1a5bb",
   "metadata": {},
   "outputs": [],
   "source": [
    "!rm some_array.npy\n",
    "!rm array_archive.npz\n",
    "!rm arrays_compressed.npz"
   ]
  },
  {
   "cell_type": "markdown",
   "id": "be18f64b",
   "metadata": {},
   "source": [
    "# Linear Algebra"
   ]
  },
  {
   "cell_type": "code",
   "execution_count": 128,
   "id": "2cdafe77",
   "metadata": {},
   "outputs": [
    {
     "data": {
      "text/plain": [
       "array([[ 28.,  64.],\n",
       "       [ 67., 181.]])"
      ]
     },
     "execution_count": 128,
     "metadata": {},
     "output_type": "execute_result"
    }
   ],
   "source": [
    "x = np.array([[1., 2., 3.,], [4., 5., 6.]])\n",
    "y = np.array([[6., 23.], [-1, 7], [8, 9]])\n",
    "x\n",
    "y\n",
    "x.dot(y)"
   ]
  },
  {
   "cell_type": "markdown",
   "id": "94ad25cf",
   "metadata": {},
   "source": [
    "x.dot(y)는 np.dot(x,y)와 동일!"
   ]
  },
  {
   "cell_type": "code",
   "execution_count": 129,
   "id": "4ffd289e",
   "metadata": {},
   "outputs": [
    {
     "data": {
      "text/plain": [
       "array([[ 28.,  64.],\n",
       "       [ 67., 181.]])"
      ]
     },
     "execution_count": 129,
     "metadata": {},
     "output_type": "execute_result"
    }
   ],
   "source": [
    "np.dot(x, y)"
   ]
  },
  {
   "cell_type": "code",
   "execution_count": 130,
   "id": "c49e94bf",
   "metadata": {},
   "outputs": [
    {
     "data": {
      "text/plain": [
       "array([ 6., 15.])"
      ]
     },
     "execution_count": 130,
     "metadata": {},
     "output_type": "execute_result"
    }
   ],
   "source": [
    "np.dot(x, np.ones(3))"
   ]
  },
  {
   "cell_type": "code",
   "execution_count": 131,
   "id": "454e481e",
   "metadata": {},
   "outputs": [
    {
     "data": {
      "text/plain": [
       "array([ 6., 15.])"
      ]
     },
     "execution_count": 131,
     "metadata": {},
     "output_type": "execute_result"
    }
   ],
   "source": [
    "x @ np.ones(3)"
   ]
  },
  {
   "cell_type": "code",
   "execution_count": 132,
   "id": "33940c82",
   "metadata": {},
   "outputs": [
    {
     "data": {
      "text/plain": [
       "array([[-10.1768,   3.2079,   1.1592,   3.213 ,   3.5428],\n",
       "       [  0.    ,  -1.2157,   6.6732,  -2.3757,  -1.77  ],\n",
       "       [  0.    ,   0.    ,  -7.6565,  -0.8223,   1.5006],\n",
       "       [  0.    ,   0.    ,   0.    ,  -1.4226,  -0.0117],\n",
       "       [  0.    ,   0.    ,   0.    ,   0.    ,   0.3659]])"
      ]
     },
     "execution_count": 132,
     "metadata": {},
     "output_type": "execute_result"
    }
   ],
   "source": [
    "# Skip!!!\n",
    "from numpy.linalg import inv, qr\n",
    "X = np.random.randn(5, 5)\n",
    "mat = X.T.dot(X)\n",
    "inv(mat)\n",
    "mat.dot(inv(mat))\n",
    "q, r = qr(mat)\n",
    "r"
   ]
  },
  {
   "cell_type": "markdown",
   "id": "1d6dac79",
   "metadata": {},
   "source": [
    "# Pseudorandom Number Generation\n",
    "\n",
    "# 난수 생성"
   ]
  },
  {
   "cell_type": "code",
   "execution_count": 133,
   "id": "13410a93",
   "metadata": {},
   "outputs": [
    {
     "data": {
      "text/plain": [
       "array([[-1.9298,  2.5279,  0.7314,  0.7442],\n",
       "       [-1.8012,  0.3999, -0.377 , -1.7812],\n",
       "       [-0.2722, -1.0202,  0.4028,  1.5548],\n",
       "       [ 0.7562,  1.3569, -1.1654, -1.1356]])"
      ]
     },
     "execution_count": 133,
     "metadata": {},
     "output_type": "execute_result"
    }
   ],
   "source": [
    "samples = np.random.normal(size=(4, 4))\n",
    "samples"
   ]
  },
  {
   "cell_type": "code",
   "execution_count": 134,
   "id": "57c1faa1",
   "metadata": {},
   "outputs": [
    {
     "name": "stdout",
     "output_type": "stream",
     "text": [
      "897 ms ± 5.34 ms per loop (mean ± std. dev. of 7 runs, 1 loop each)\n",
      "40.9 ms ± 158 µs per loop (mean ± std. dev. of 7 runs, 10 loops each)\n"
     ]
    }
   ],
   "source": [
    "from random import normalvariate\n",
    "N = 1000000\n",
    "%timeit samples = [normalvariate(0, 1) for _ in range(N)]\n",
    "%timeit np.random.normal(size=N)"
   ]
  },
  {
   "cell_type": "markdown",
   "id": "9911c3e4",
   "metadata": {},
   "source": [
    "유사난수 ~ 난수 생성기의 시드값에 따라 정해진 난수를 알고리즘으로 생성\n",
    "\n",
    "NumPy 난수 생성기의 시드값은 np.random.seed를 이용해서 변경가능하다"
   ]
  },
  {
   "cell_type": "code",
   "execution_count": 135,
   "id": "38393c65",
   "metadata": {},
   "outputs": [],
   "source": [
    "np.random.seed(1234)"
   ]
  },
  {
   "cell_type": "markdown",
   "id": "788b7582",
   "metadata": {},
   "source": [
    "np.random.seed() = RandomState()는 동일한 역할"
   ]
  },
  {
   "cell_type": "code",
   "execution_count": 136,
   "id": "2a0f4425",
   "metadata": {},
   "outputs": [
    {
     "data": {
      "text/plain": [
       "array([ 0.4714, -1.191 ,  1.4327, -0.3127, -0.7206,  0.8872,  0.8596,\n",
       "       -0.6365,  0.0157, -2.2427])"
      ]
     },
     "execution_count": 136,
     "metadata": {},
     "output_type": "execute_result"
    }
   ],
   "source": [
    "rng = np.random.RandomState(1234)\n",
    "rng.randn(10)"
   ]
  },
  {
   "cell_type": "markdown",
   "id": "7aacf324",
   "metadata": {},
   "source": [
    "# Example : Random Walks"
   ]
  },
  {
   "cell_type": "markdown",
   "id": "dfb69400",
   "metadata": {},
   "source": [
    "# --------------------------------------------------------------\n",
    "if 문 루프 돌린 버전"
   ]
  },
  {
   "cell_type": "code",
   "execution_count": 137,
   "id": "b5eecbfe",
   "metadata": {},
   "outputs": [],
   "source": [
    "import random\n",
    "position = 0\n",
    "walk = [position]\n",
    "steps = 1000\n",
    "for i in range(steps):\n",
    "    step = 1  if random.randint(0, 1) else -1\n",
    "    position += step\n",
    "    walk.append(position)"
   ]
  },
  {
   "cell_type": "code",
   "execution_count": 138,
   "id": "f3728513",
   "metadata": {},
   "outputs": [
    {
     "data": {
      "text/plain": [
       "[0,\n",
       " -1,\n",
       " -2,\n",
       " -1,\n",
       " 0,\n",
       " 1,\n",
       " 0,\n",
       " 1,\n",
       " 2,\n",
       " 3,\n",
       " 4,\n",
       " 3,\n",
       " 2,\n",
       " 3,\n",
       " 2,\n",
       " 1,\n",
       " 2,\n",
       " 1,\n",
       " 2,\n",
       " 1,\n",
       " 2,\n",
       " 1,\n",
       " 0,\n",
       " -1,\n",
       " 0,\n",
       " -1,\n",
       " 0,\n",
       " -1,\n",
       " 0,\n",
       " -1,\n",
       " -2,\n",
       " -3,\n",
       " -4,\n",
       " -3,\n",
       " -4,\n",
       " -5,\n",
       " -4,\n",
       " -5,\n",
       " -6,\n",
       " -5,\n",
       " -6,\n",
       " -7,\n",
       " -6,\n",
       " -7,\n",
       " -8,\n",
       " -7,\n",
       " -6,\n",
       " -7,\n",
       " -6,\n",
       " -5,\n",
       " -4,\n",
       " -5,\n",
       " -4,\n",
       " -3,\n",
       " -4,\n",
       " -3,\n",
       " -4,\n",
       " -5,\n",
       " -4,\n",
       " -5,\n",
       " -4,\n",
       " -3,\n",
       " -4,\n",
       " -5,\n",
       " -4,\n",
       " -3,\n",
       " -4,\n",
       " -3,\n",
       " -4,\n",
       " -5,\n",
       " -6,\n",
       " -5,\n",
       " -6,\n",
       " -5,\n",
       " -4,\n",
       " -3,\n",
       " -2,\n",
       " -3,\n",
       " -4,\n",
       " -5,\n",
       " -6,\n",
       " -7,\n",
       " -8,\n",
       " -9,\n",
       " -8,\n",
       " -7,\n",
       " -6,\n",
       " -5,\n",
       " -4,\n",
       " -5,\n",
       " -6,\n",
       " -7,\n",
       " -8,\n",
       " -9,\n",
       " -8,\n",
       " -7,\n",
       " -8,\n",
       " -7,\n",
       " -6,\n",
       " -5,\n",
       " -6,\n",
       " -5,\n",
       " -6,\n",
       " -7,\n",
       " -8,\n",
       " -7,\n",
       " -8,\n",
       " -9,\n",
       " -10,\n",
       " -9,\n",
       " -8,\n",
       " -7,\n",
       " -8,\n",
       " -7,\n",
       " -6,\n",
       " -7,\n",
       " -6,\n",
       " -7,\n",
       " -8,\n",
       " -7,\n",
       " -8,\n",
       " -7,\n",
       " -8,\n",
       " -7,\n",
       " -6,\n",
       " -5,\n",
       " -4,\n",
       " -5,\n",
       " -4,\n",
       " -3,\n",
       " -2,\n",
       " -3,\n",
       " -4,\n",
       " -3,\n",
       " -4,\n",
       " -3,\n",
       " -4,\n",
       " -5,\n",
       " -4,\n",
       " -5,\n",
       " -6,\n",
       " -7,\n",
       " -8,\n",
       " -7,\n",
       " -6,\n",
       " -7,\n",
       " -6,\n",
       " -5,\n",
       " -6,\n",
       " -5,\n",
       " -4,\n",
       " -3,\n",
       " -2,\n",
       " -1,\n",
       " 0,\n",
       " -1,\n",
       " -2,\n",
       " -3,\n",
       " -4,\n",
       " -3,\n",
       " -4,\n",
       " -3,\n",
       " -4,\n",
       " -5,\n",
       " -6,\n",
       " -5,\n",
       " -6,\n",
       " -5,\n",
       " -4,\n",
       " -3,\n",
       " -4,\n",
       " -3,\n",
       " -4,\n",
       " -3,\n",
       " -2,\n",
       " -1,\n",
       " 0,\n",
       " -1,\n",
       " 0,\n",
       " 1,\n",
       " 2,\n",
       " 1,\n",
       " 2,\n",
       " 1,\n",
       " 2,\n",
       " 3,\n",
       " 2,\n",
       " 1,\n",
       " 2,\n",
       " 1,\n",
       " 0,\n",
       " -1,\n",
       " -2,\n",
       " -3,\n",
       " -4,\n",
       " -5,\n",
       " -6,\n",
       " -7,\n",
       " -6,\n",
       " -5,\n",
       " -4,\n",
       " -3,\n",
       " -2,\n",
       " -1,\n",
       " 0,\n",
       " 1,\n",
       " 0,\n",
       " -1,\n",
       " 0,\n",
       " 1,\n",
       " 0,\n",
       " 1,\n",
       " 0,\n",
       " -1,\n",
       " 0,\n",
       " 1,\n",
       " 2,\n",
       " 3,\n",
       " 4,\n",
       " 3,\n",
       " 4,\n",
       " 3,\n",
       " 4,\n",
       " 5,\n",
       " 4,\n",
       " 3,\n",
       " 2,\n",
       " 3,\n",
       " 4,\n",
       " 3,\n",
       " 2,\n",
       " 1,\n",
       " 0,\n",
       " 1,\n",
       " 0,\n",
       " -1,\n",
       " -2,\n",
       " -3,\n",
       " -2,\n",
       " -3,\n",
       " -2,\n",
       " -3,\n",
       " -4,\n",
       " -3,\n",
       " -4,\n",
       " -5,\n",
       " -6,\n",
       " -7,\n",
       " -8,\n",
       " -7,\n",
       " -8,\n",
       " -9,\n",
       " -8,\n",
       " -9,\n",
       " -8,\n",
       " -9,\n",
       " -10,\n",
       " -11,\n",
       " -10,\n",
       " -9,\n",
       " -8,\n",
       " -9,\n",
       " -10,\n",
       " -9,\n",
       " -10,\n",
       " -11,\n",
       " -10,\n",
       " -11,\n",
       " -12,\n",
       " -13,\n",
       " -14,\n",
       " -15,\n",
       " -14,\n",
       " -13,\n",
       " -14,\n",
       " -13,\n",
       " -12,\n",
       " -13,\n",
       " -12,\n",
       " -11,\n",
       " -10,\n",
       " -9,\n",
       " -8,\n",
       " -9,\n",
       " -8,\n",
       " -7,\n",
       " -8,\n",
       " -9,\n",
       " -8,\n",
       " -9,\n",
       " -8,\n",
       " -7,\n",
       " -6,\n",
       " -5,\n",
       " -6,\n",
       " -7,\n",
       " -8,\n",
       " -9,\n",
       " -10,\n",
       " -9,\n",
       " -10,\n",
       " -11,\n",
       " -12,\n",
       " -13,\n",
       " -14,\n",
       " -15,\n",
       " -16,\n",
       " -17,\n",
       " -16,\n",
       " -17,\n",
       " -18,\n",
       " -17,\n",
       " -16,\n",
       " -15,\n",
       " -16,\n",
       " -15,\n",
       " -14,\n",
       " -13,\n",
       " -12,\n",
       " -11,\n",
       " -10,\n",
       " -9,\n",
       " -8,\n",
       " -9,\n",
       " -10,\n",
       " -11,\n",
       " -10,\n",
       " -11,\n",
       " -12,\n",
       " -13,\n",
       " -14,\n",
       " -13,\n",
       " -14,\n",
       " -13,\n",
       " -14,\n",
       " -13,\n",
       " -14,\n",
       " -13,\n",
       " -14,\n",
       " -13,\n",
       " -14,\n",
       " -15,\n",
       " -16,\n",
       " -15,\n",
       " -16,\n",
       " -15,\n",
       " -14,\n",
       " -15,\n",
       " -14,\n",
       " -13,\n",
       " -12,\n",
       " -11,\n",
       " -10,\n",
       " -11,\n",
       " -12,\n",
       " -13,\n",
       " -12,\n",
       " -11,\n",
       " -12,\n",
       " -11,\n",
       " -10,\n",
       " -11,\n",
       " -10,\n",
       " -11,\n",
       " -10,\n",
       " -11,\n",
       " -10,\n",
       " -9,\n",
       " -10,\n",
       " -9,\n",
       " -10,\n",
       " -9,\n",
       " -10,\n",
       " -9,\n",
       " -10,\n",
       " -9,\n",
       " -10,\n",
       " -11,\n",
       " -12,\n",
       " -11,\n",
       " -12,\n",
       " -13,\n",
       " -14,\n",
       " -13,\n",
       " -12,\n",
       " -13,\n",
       " -14,\n",
       " -13,\n",
       " -12,\n",
       " -11,\n",
       " -10,\n",
       " -9,\n",
       " -10,\n",
       " -11,\n",
       " -12,\n",
       " -13,\n",
       " -14,\n",
       " -15,\n",
       " -14,\n",
       " -13,\n",
       " -12,\n",
       " -13,\n",
       " -14,\n",
       " -15,\n",
       " -16,\n",
       " -15,\n",
       " -16,\n",
       " -17,\n",
       " -16,\n",
       " -15,\n",
       " -14,\n",
       " -15,\n",
       " -14,\n",
       " -13,\n",
       " -14,\n",
       " -13,\n",
       " -12,\n",
       " -13,\n",
       " -12,\n",
       " -11,\n",
       " -10,\n",
       " -9,\n",
       " -10,\n",
       " -11,\n",
       " -12,\n",
       " -11,\n",
       " -12,\n",
       " -11,\n",
       " -12,\n",
       " -11,\n",
       " -10,\n",
       " -11,\n",
       " -12,\n",
       " -11,\n",
       " -12,\n",
       " -13,\n",
       " -14,\n",
       " -13,\n",
       " -12,\n",
       " -13,\n",
       " -12,\n",
       " -13,\n",
       " -14,\n",
       " -13,\n",
       " -14,\n",
       " -13,\n",
       " -14,\n",
       " -13,\n",
       " -14,\n",
       " -15,\n",
       " -14,\n",
       " -13,\n",
       " -12,\n",
       " -11,\n",
       " -12,\n",
       " -13,\n",
       " -14,\n",
       " -13,\n",
       " -14,\n",
       " -13,\n",
       " -14,\n",
       " -13,\n",
       " -14,\n",
       " -15,\n",
       " -14,\n",
       " -15,\n",
       " -16,\n",
       " -15,\n",
       " -16,\n",
       " -15,\n",
       " -16,\n",
       " -15,\n",
       " -16,\n",
       " -17,\n",
       " -16,\n",
       " -15,\n",
       " -14,\n",
       " -15,\n",
       " -14,\n",
       " -13,\n",
       " -14,\n",
       " -13,\n",
       " -12,\n",
       " -11,\n",
       " -12,\n",
       " -11,\n",
       " -10,\n",
       " -9,\n",
       " -10,\n",
       " -9,\n",
       " -10,\n",
       " -9,\n",
       " -8,\n",
       " -9,\n",
       " -10,\n",
       " -11,\n",
       " -10,\n",
       " -11,\n",
       " -10,\n",
       " -11,\n",
       " -10,\n",
       " -11,\n",
       " -12,\n",
       " -13,\n",
       " -14,\n",
       " -15,\n",
       " -14,\n",
       " -13,\n",
       " -12,\n",
       " -11,\n",
       " -12,\n",
       " -11,\n",
       " -10,\n",
       " -11,\n",
       " -12,\n",
       " -11,\n",
       " -12,\n",
       " -11,\n",
       " -10,\n",
       " -9,\n",
       " -8,\n",
       " -7,\n",
       " -6,\n",
       " -7,\n",
       " -8,\n",
       " -7,\n",
       " -6,\n",
       " -5,\n",
       " -4,\n",
       " -5,\n",
       " -4,\n",
       " -5,\n",
       " -4,\n",
       " -5,\n",
       " -4,\n",
       " -5,\n",
       " -6,\n",
       " -7,\n",
       " -6,\n",
       " -7,\n",
       " -6,\n",
       " -7,\n",
       " -6,\n",
       " -5,\n",
       " -6,\n",
       " -5,\n",
       " -4,\n",
       " -5,\n",
       " -6,\n",
       " -7,\n",
       " -8,\n",
       " -9,\n",
       " -10,\n",
       " -11,\n",
       " -12,\n",
       " -11,\n",
       " -10,\n",
       " -11,\n",
       " -10,\n",
       " -9,\n",
       " -10,\n",
       " -11,\n",
       " -12,\n",
       " -13,\n",
       " -14,\n",
       " -13,\n",
       " -14,\n",
       " -13,\n",
       " -14,\n",
       " -15,\n",
       " -14,\n",
       " -13,\n",
       " -12,\n",
       " -11,\n",
       " -12,\n",
       " -13,\n",
       " -12,\n",
       " -13,\n",
       " -14,\n",
       " -15,\n",
       " -16,\n",
       " -15,\n",
       " -14,\n",
       " -13,\n",
       " -12,\n",
       " -13,\n",
       " -14,\n",
       " -13,\n",
       " -12,\n",
       " -11,\n",
       " -10,\n",
       " -9,\n",
       " -10,\n",
       " -9,\n",
       " -10,\n",
       " -11,\n",
       " -12,\n",
       " -13,\n",
       " -14,\n",
       " -13,\n",
       " -12,\n",
       " -11,\n",
       " -10,\n",
       " -9,\n",
       " -8,\n",
       " -9,\n",
       " -8,\n",
       " -7,\n",
       " -8,\n",
       " -9,\n",
       " -10,\n",
       " -11,\n",
       " -10,\n",
       " -9,\n",
       " -8,\n",
       " -9,\n",
       " -10,\n",
       " -9,\n",
       " -8,\n",
       " -7,\n",
       " -6,\n",
       " -5,\n",
       " -6,\n",
       " -7,\n",
       " -6,\n",
       " -7,\n",
       " -6,\n",
       " -7,\n",
       " -6,\n",
       " -7,\n",
       " -8,\n",
       " -7,\n",
       " -6,\n",
       " -5,\n",
       " -4,\n",
       " -5,\n",
       " -4,\n",
       " -5,\n",
       " -6,\n",
       " -7,\n",
       " -6,\n",
       " -5,\n",
       " -4,\n",
       " -5,\n",
       " -6,\n",
       " -5,\n",
       " -6,\n",
       " -5,\n",
       " -4,\n",
       " -3,\n",
       " -4,\n",
       " -5,\n",
       " -6,\n",
       " -5,\n",
       " -6,\n",
       " -7,\n",
       " -8,\n",
       " -9,\n",
       " -8,\n",
       " -9,\n",
       " -8,\n",
       " -9,\n",
       " -8,\n",
       " -7,\n",
       " -6,\n",
       " -7,\n",
       " -8,\n",
       " -7,\n",
       " -6,\n",
       " -5,\n",
       " -4,\n",
       " -3,\n",
       " -4,\n",
       " -3,\n",
       " -4,\n",
       " -3,\n",
       " -2,\n",
       " -3,\n",
       " -2,\n",
       " -3,\n",
       " -2,\n",
       " -3,\n",
       " -4,\n",
       " -3,\n",
       " -2,\n",
       " -1,\n",
       " 0,\n",
       " 1,\n",
       " 2,\n",
       " 1,\n",
       " 0,\n",
       " -1,\n",
       " 0,\n",
       " 1,\n",
       " 0,\n",
       " 1,\n",
       " 0,\n",
       " 1,\n",
       " 2,\n",
       " 3,\n",
       " 2,\n",
       " 3,\n",
       " 4,\n",
       " 5,\n",
       " 6,\n",
       " 5,\n",
       " 4,\n",
       " 3,\n",
       " 2,\n",
       " 3,\n",
       " 4,\n",
       " 3,\n",
       " 2,\n",
       " 3,\n",
       " 2,\n",
       " 3,\n",
       " 2,\n",
       " 3,\n",
       " 4,\n",
       " 5,\n",
       " 6,\n",
       " 5,\n",
       " 4,\n",
       " 3,\n",
       " 4,\n",
       " 5,\n",
       " 4,\n",
       " 3,\n",
       " 2,\n",
       " 1,\n",
       " 2,\n",
       " 3,\n",
       " 4,\n",
       " 3,\n",
       " 2,\n",
       " 1,\n",
       " 2,\n",
       " 1,\n",
       " 0,\n",
       " 1,\n",
       " 0,\n",
       " -1,\n",
       " -2,\n",
       " -3,\n",
       " -4,\n",
       " -5,\n",
       " -6,\n",
       " -5,\n",
       " -4,\n",
       " -3,\n",
       " -4,\n",
       " -3,\n",
       " -2,\n",
       " -3,\n",
       " -2,\n",
       " -1,\n",
       " -2,\n",
       " -3,\n",
       " -4,\n",
       " -3,\n",
       " -4,\n",
       " -5,\n",
       " -6,\n",
       " -5,\n",
       " -4,\n",
       " -3,\n",
       " -4,\n",
       " -5,\n",
       " -4,\n",
       " -3,\n",
       " -2,\n",
       " -1,\n",
       " 0,\n",
       " -1,\n",
       " -2,\n",
       " -1,\n",
       " -2,\n",
       " -3,\n",
       " -4,\n",
       " -5,\n",
       " -6,\n",
       " -7,\n",
       " -6,\n",
       " -5,\n",
       " -4,\n",
       " -3,\n",
       " -4,\n",
       " -3,\n",
       " -4,\n",
       " -3,\n",
       " -4,\n",
       " -5,\n",
       " -4,\n",
       " -5,\n",
       " -4,\n",
       " -3,\n",
       " -4,\n",
       " -3,\n",
       " -2,\n",
       " -3,\n",
       " -4,\n",
       " -5,\n",
       " -6,\n",
       " -7,\n",
       " -6,\n",
       " -5,\n",
       " -6,\n",
       " -5,\n",
       " -6,\n",
       " -7,\n",
       " -6,\n",
       " -7,\n",
       " -8,\n",
       " -9,\n",
       " -8,\n",
       " -9,\n",
       " -8,\n",
       " -9,\n",
       " -10,\n",
       " -11,\n",
       " -10,\n",
       " -11,\n",
       " -10,\n",
       " -9,\n",
       " -10,\n",
       " -11,\n",
       " -12,\n",
       " -13,\n",
       " -14,\n",
       " -15,\n",
       " -16,\n",
       " -15,\n",
       " -16,\n",
       " -15,\n",
       " -16,\n",
       " -17,\n",
       " -18,\n",
       " -19,\n",
       " -18,\n",
       " -17,\n",
       " -16,\n",
       " -17,\n",
       " -16,\n",
       " -17,\n",
       " -18,\n",
       " -19,\n",
       " -18,\n",
       " -19,\n",
       " -18,\n",
       " -19,\n",
       " -18,\n",
       " -19,\n",
       " -20,\n",
       " -21,\n",
       " -20,\n",
       " -21,\n",
       " -22,\n",
       " -23,\n",
       " -24,\n",
       " -23,\n",
       " -22,\n",
       " -23,\n",
       " -24,\n",
       " -25,\n",
       " -24,\n",
       " -25,\n",
       " -24,\n",
       " -23,\n",
       " -24,\n",
       " -25,\n",
       " -24,\n",
       " -25,\n",
       " -26,\n",
       " -27,\n",
       " -26,\n",
       " -25,\n",
       " -26,\n",
       " -25,\n",
       " -24,\n",
       " -25,\n",
       " -26,\n",
       " -25,\n",
       " -24,\n",
       " -23,\n",
       " -24,\n",
       " -23,\n",
       " -24,\n",
       " -25,\n",
       " -26,\n",
       " -25,\n",
       " -24,\n",
       " -25,\n",
       " -26,\n",
       " -25,\n",
       " -24,\n",
       " -25,\n",
       " -24,\n",
       " -23,\n",
       " -24,\n",
       " -23,\n",
       " -24,\n",
       " -23,\n",
       " -24,\n",
       " -25,\n",
       " -26,\n",
       " -25,\n",
       " -26,\n",
       " -27,\n",
       " -26,\n",
       " -25,\n",
       " -24,\n",
       " -25,\n",
       " -26,\n",
       " -25,\n",
       " -24,\n",
       " -25,\n",
       " -24,\n",
       " -25,\n",
       " -24,\n",
       " -23,\n",
       " -24,\n",
       " -25,\n",
       " -26,\n",
       " -25,\n",
       " -26,\n",
       " -27,\n",
       " -28,\n",
       " -29,\n",
       " -30,\n",
       " -31,\n",
       " -32,\n",
       " -31,\n",
       " -30,\n",
       " -29,\n",
       " -28,\n",
       " -27,\n",
       " -28,\n",
       " -29,\n",
       " -28,\n",
       " -27,\n",
       " -28,\n",
       " -27,\n",
       " -26,\n",
       " -27,\n",
       " -28,\n",
       " -29,\n",
       " -30,\n",
       " -29,\n",
       " -30,\n",
       " -31,\n",
       " -30,\n",
       " -31,\n",
       " -30,\n",
       " -31,\n",
       " -30,\n",
       " -29,\n",
       " -28,\n",
       " -27,\n",
       " -26,\n",
       " -27,\n",
       " -26,\n",
       " -25,\n",
       " -26,\n",
       " -27,\n",
       " -28,\n",
       " -27,\n",
       " -28,\n",
       " -27,\n",
       " -28,\n",
       " -29,\n",
       " -28,\n",
       " -29,\n",
       " -28,\n",
       " -29,\n",
       " -30,\n",
       " -29,\n",
       " -28,\n",
       " -27,\n",
       " -28,\n",
       " -29,\n",
       " -28,\n",
       " -29,\n",
       " -30,\n",
       " -31,\n",
       " -30,\n",
       " -31,\n",
       " -30,\n",
       " -29,\n",
       " -30,\n",
       " -31,\n",
       " -30,\n",
       " -31,\n",
       " -32,\n",
       " -31,\n",
       " -32,\n",
       " -33,\n",
       " -32,\n",
       " -33,\n",
       " -34,\n",
       " -33,\n",
       " ...]"
      ]
     },
     "execution_count": 138,
     "metadata": {},
     "output_type": "execute_result"
    }
   ],
   "source": [
    "walk"
   ]
  },
  {
   "cell_type": "code",
   "execution_count": 139,
   "id": "5dddf15e",
   "metadata": {},
   "outputs": [
    {
     "data": {
      "text/plain": [
       "-34"
      ]
     },
     "execution_count": 139,
     "metadata": {},
     "output_type": "execute_result"
    }
   ],
   "source": [
    "position"
   ]
  },
  {
   "cell_type": "code",
   "execution_count": 140,
   "id": "0fb21b90",
   "metadata": {},
   "outputs": [
    {
     "data": {
      "image/png": "[encoded data removed]",
      "text/plain": [
       "<Figure size 720x432 with 1 Axes>"
      ]
     },
     "metadata": {
      "needs_background": "light"
     },
     "output_type": "display_data"
    }
   ],
   "source": [
    "plt.figure()\n",
    "plt.plot(walk[:100])\n",
    "plt.show()"
   ]
  },
  {
   "cell_type": "markdown",
   "id": "fc8d35cc",
   "metadata": {},
   "source": [
    "# ----------------------------------------------------------"
   ]
  },
  {
   "cell_type": "markdown",
   "id": "ebbd62fc",
   "metadata": {},
   "source": [
    "## 주사위를 던져서 4이상의 눈이 나오면 앞으로 한 칸 전진 아니면 뒤로 한칸 후퇴\n",
    "\n",
    "## 아래 코드 변경해서 하면 됨"
   ]
  },
  {
   "cell_type": "code",
   "execution_count": 141,
   "id": "1d6ab6a1",
   "metadata": {},
   "outputs": [
    {
     "data": {
      "text/plain": [
       "array([4, 6, 5, 5, 1, 2, 2, 2, 3, 4, 5, 5, 3, 3, 1, 1, 5, 6, 1, 2, 3, 1,\n",
       "       4, 5, 6, 3, 3, 4, 4, 1, 2, 4, 1, 4, 3, 4, 5, 2, 4, 4, 4, 3, 2, 4,\n",
       "       5, 3, 4, 5, 2, 6, 5, 1, 5, 6, 6, 2, 6, 2, 5, 2, 5, 6, 1, 2, 1, 1,\n",
       "       5, 1, 5, 3, 4, 2, 3, 6, 3, 6, 6, 5, 4, 6, 5, 3, 3, 5, 5, 3, 2, 4,\n",
       "       3, 2, 5, 2, 1, 2, 3, 2, 3, 2, 3, 2])"
      ]
     },
     "execution_count": 141,
     "metadata": {},
     "output_type": "execute_result"
    }
   ],
   "source": [
    "nsteps = 1000\n",
    "draws = np.random.randint(1, 7, size=nsteps)\n",
    "draws[:100]"
   ]
  },
  {
   "cell_type": "code",
   "execution_count": 142,
   "id": "00edab39",
   "metadata": {},
   "outputs": [
    {
     "data": {
      "text/plain": [
       "array([-1,  1,  1,  1, -1, -1, -1, -1, -1, -1,  1,  1, -1, -1, -1, -1,  1,\n",
       "        1, -1, -1, -1, -1, -1,  1,  1, -1, -1, -1, -1, -1, -1, -1, -1, -1,\n",
       "       -1, -1,  1, -1, -1, -1, -1, -1, -1, -1,  1, -1, -1,  1, -1,  1,  1,\n",
       "       -1,  1,  1,  1, -1,  1, -1,  1, -1,  1,  1, -1, -1, -1, -1,  1, -1,\n",
       "        1, -1, -1, -1, -1,  1, -1,  1,  1,  1, -1,  1,  1, -1, -1,  1,  1,\n",
       "       -1, -1, -1, -1, -1,  1, -1, -1, -1, -1, -1, -1, -1, -1, -1])"
      ]
     },
     "execution_count": 142,
     "metadata": {},
     "output_type": "execute_result"
    }
   ],
   "source": [
    "steps = np.where(draws >= 5, 1, -1)\n",
    "steps[:100]"
   ]
  },
  {
   "cell_type": "code",
   "execution_count": 143,
   "id": "e43044c9",
   "metadata": {},
   "outputs": [],
   "source": [
    "walk = steps.cumsum()"
   ]
  },
  {
   "cell_type": "code",
   "execution_count": 144,
   "id": "0d45f33e",
   "metadata": {},
   "outputs": [
    {
     "data": {
      "image/png": "[encoded data removed]",
      "text/plain": [
       "<Figure size 720x432 with 1 Axes>"
      ]
     },
     "metadata": {
      "needs_background": "light"
     },
     "output_type": "display_data"
    }
   ],
   "source": [
    "plt.figure()\n",
    "plt.plot(walk[:1000])\n",
    "plt.show()"
   ]
  },
  {
   "cell_type": "markdown",
   "id": "348a7592",
   "metadata": {},
   "source": [
    "# ----------------------------------------------------------------------\n",
    "\n",
    "## 다른 버전"
   ]
  },
  {
   "cell_type": "code",
   "execution_count": 145,
   "id": "70422142",
   "metadata": {},
   "outputs": [],
   "source": [
    "np.random.seed(12345)"
   ]
  },
  {
   "cell_type": "code",
   "execution_count": 146,
   "id": "be0faa50",
   "metadata": {},
   "outputs": [],
   "source": [
    "nsteps = 1000\n",
    "draws = np.random.randint(0, 2, size=nsteps)\n",
    "steps = np.where(draws > 0, 1, -1)\n",
    "walk = steps.cumsum()"
   ]
  },
  {
   "cell_type": "code",
   "execution_count": 147,
   "id": "e5034bb4",
   "metadata": {},
   "outputs": [
    {
     "data": {
      "text/plain": [
       "-3"
      ]
     },
     "execution_count": 147,
     "metadata": {},
     "output_type": "execute_result"
    }
   ],
   "source": [
    "walk.min()"
   ]
  },
  {
   "cell_type": "code",
   "execution_count": 148,
   "id": "a3825daf",
   "metadata": {},
   "outputs": [
    {
     "data": {
      "text/plain": [
       "31"
      ]
     },
     "execution_count": 148,
     "metadata": {},
     "output_type": "execute_result"
    }
   ],
   "source": [
    "walk.max()"
   ]
  },
  {
   "cell_type": "code",
   "execution_count": 149,
   "id": "4028a11e",
   "metadata": {},
   "outputs": [
    {
     "data": {
      "text/plain": [
       "array([-1,  1,  1,  1, -1,  1, -1, -1,  1, -1,  1,  1, -1,  1,  1, -1,  1,\n",
       "        1,  1, -1, -1, -1,  1,  1,  1, -1,  1, -1, -1,  1,  1,  1,  1,  1,\n",
       "       -1,  1,  1,  1,  1,  1,  1, -1, -1,  1,  1, -1, -1,  1,  1,  1,  1,\n",
       "       -1,  1,  1,  1,  1, -1,  1,  1, -1,  1, -1, -1,  1,  1,  1, -1, -1,\n",
       "        1, -1,  1, -1, -1, -1,  1,  1, -1, -1, -1, -1, -1, -1,  1, -1, -1,\n",
       "       -1,  1, -1, -1,  1,  1,  1,  1,  1,  1, -1, -1, -1,  1, -1, -1,  1,\n",
       "       -1,  1, -1,  1, -1, -1, -1,  1,  1, -1, -1,  1, -1,  1, -1, -1,  1,\n",
       "        1, -1,  1,  1, -1, -1,  1, -1, -1,  1,  1,  1,  1, -1, -1, -1,  1,\n",
       "       -1,  1, -1, -1,  1,  1, -1,  1, -1,  1, -1,  1,  1,  1, -1,  1, -1,\n",
       "       -1, -1,  1,  1, -1, -1, -1, -1, -1, -1,  1,  1,  1, -1, -1,  1, -1,\n",
       "        1, -1,  1, -1, -1,  1,  1, -1,  1,  1, -1,  1,  1, -1, -1,  1, -1,\n",
       "       -1,  1,  1,  1,  1, -1,  1,  1, -1,  1,  1,  1, -1, -1, -1, -1, -1,\n",
       "        1,  1,  1, -1, -1,  1, -1,  1, -1,  1, -1, -1, -1, -1,  1, -1, -1,\n",
       "        1,  1,  1, -1, -1, -1,  1,  1, -1,  1,  1, -1,  1, -1, -1, -1, -1,\n",
       "       -1,  1, -1, -1,  1,  1,  1,  1,  1, -1, -1, -1,  1, -1, -1, -1,  1,\n",
       "        1,  1,  1, -1,  1, -1,  1,  1, -1,  1,  1, -1, -1,  1, -1,  1,  1,\n",
       "        1, -1,  1, -1,  1, -1, -1, -1, -1, -1, -1, -1, -1, -1,  1, -1, -1,\n",
       "       -1,  1, -1, -1,  1,  1,  1,  1,  1,  1,  1,  1,  1,  1, -1, -1,  1,\n",
       "       -1, -1, -1, -1, -1,  1,  1,  1, -1,  1,  1, -1,  1, -1,  1, -1, -1,\n",
       "       -1, -1,  1,  1,  1,  1,  1, -1, -1,  1,  1, -1,  1,  1, -1, -1,  1,\n",
       "       -1, -1,  1, -1, -1,  1,  1,  1, -1, -1,  1,  1,  1, -1,  1,  1, -1,\n",
       "       -1, -1, -1,  1,  1,  1, -1, -1,  1,  1, -1,  1,  1,  1,  1,  1, -1,\n",
       "        1, -1,  1, -1, -1,  1,  1,  1, -1, -1,  1, -1,  1, -1,  1,  1,  1,\n",
       "        1, -1, -1, -1,  1, -1, -1, -1, -1,  1, -1, -1,  1, -1, -1,  1,  1,\n",
       "        1, -1,  1, -1,  1,  1,  1,  1,  1,  1,  1, -1, -1, -1,  1,  1,  1,\n",
       "       -1,  1,  1,  1, -1, -1,  1, -1,  1,  1,  1,  1, -1,  1, -1, -1, -1,\n",
       "       -1, -1, -1, -1,  1, -1,  1,  1, -1,  1, -1,  1,  1, -1, -1, -1, -1,\n",
       "       -1,  1, -1,  1,  1, -1,  1, -1, -1,  1,  1, -1,  1,  1, -1,  1,  1,\n",
       "       -1,  1, -1,  1,  1, -1,  1, -1, -1, -1, -1, -1, -1, -1, -1,  1, -1,\n",
       "       -1, -1, -1,  1, -1, -1,  1, -1, -1,  1,  1,  1,  1, -1, -1, -1, -1,\n",
       "       -1,  1, -1,  1,  1,  1, -1,  1, -1,  1,  1, -1, -1,  1, -1,  1,  1,\n",
       "       -1,  1, -1, -1, -1,  1, -1, -1,  1,  1, -1, -1,  1, -1,  1, -1, -1,\n",
       "        1,  1, -1,  1, -1,  1,  1, -1, -1,  1,  1,  1,  1, -1, -1, -1,  1,\n",
       "       -1, -1,  1, -1,  1,  1, -1, -1,  1,  1,  1, -1, -1,  1,  1,  1,  1,\n",
       "        1, -1, -1, -1, -1, -1, -1,  1,  1, -1, -1,  1,  1,  1,  1,  1,  1,\n",
       "       -1,  1,  1, -1,  1, -1,  1,  1, -1,  1, -1, -1, -1, -1,  1, -1, -1,\n",
       "       -1,  1, -1,  1,  1,  1, -1,  1,  1,  1,  1, -1,  1, -1,  1,  1, -1,\n",
       "        1,  1,  1,  1,  1, -1, -1, -1,  1, -1,  1,  1, -1,  1,  1, -1,  1,\n",
       "       -1, -1,  1, -1,  1,  1,  1, -1, -1, -1, -1, -1, -1,  1, -1, -1, -1,\n",
       "       -1,  1,  1, -1,  1,  1, -1,  1,  1, -1,  1,  1, -1,  1, -1,  1, -1,\n",
       "        1, -1, -1,  1,  1,  1,  1, -1,  1, -1,  1,  1,  1, -1, -1, -1,  1,\n",
       "       -1, -1, -1,  1, -1, -1, -1, -1, -1,  1, -1, -1, -1,  1, -1,  1,  1,\n",
       "       -1, -1,  1, -1,  1, -1, -1,  1, -1,  1, -1,  1,  1,  1,  1,  1,  1,\n",
       "       -1, -1,  1,  1,  1,  1, -1, -1, -1, -1, -1,  1,  1, -1,  1, -1,  1,\n",
       "       -1, -1, -1,  1, -1,  1,  1,  1, -1,  1,  1,  1, -1, -1,  1, -1,  1,\n",
       "        1, -1,  1, -1, -1,  1, -1, -1,  1,  1, -1,  1, -1,  1, -1,  1, -1,\n",
       "        1,  1,  1, -1,  1,  1, -1,  1,  1,  1,  1, -1, -1,  1,  1,  1, -1,\n",
       "       -1,  1,  1,  1, -1, -1, -1, -1,  1, -1,  1, -1,  1, -1,  1, -1,  1,\n",
       "        1,  1,  1, -1,  1,  1, -1, -1,  1,  1, -1,  1, -1,  1,  1,  1, -1,\n",
       "       -1,  1,  1, -1, -1, -1,  1, -1,  1,  1,  1, -1, -1, -1, -1, -1,  1,\n",
       "        1,  1,  1,  1,  1,  1, -1, -1,  1,  1, -1,  1, -1,  1, -1, -1,  1,\n",
       "        1,  1, -1,  1, -1,  1, -1, -1,  1,  1,  1, -1,  1, -1,  1,  1, -1,\n",
       "        1,  1,  1,  1,  1, -1,  1, -1, -1, -1, -1,  1,  1, -1,  1,  1, -1,\n",
       "       -1,  1, -1,  1,  1, -1,  1,  1,  1,  1, -1,  1, -1, -1,  1, -1, -1,\n",
       "        1, -1,  1,  1, -1, -1, -1, -1, -1, -1, -1, -1,  1, -1,  1, -1, -1,\n",
       "       -1, -1, -1, -1,  1, -1,  1,  1, -1,  1, -1, -1, -1,  1, -1,  1,  1,\n",
       "       -1,  1, -1, -1, -1, -1, -1,  1,  1,  1,  1, -1,  1,  1, -1, -1, -1,\n",
       "       -1, -1,  1, -1,  1, -1,  1,  1, -1, -1,  1, -1,  1,  1,  1, -1,  1,\n",
       "       -1,  1, -1, -1,  1, -1, -1,  1, -1, -1,  1, -1,  1,  1])"
      ]
     },
     "execution_count": 149,
     "metadata": {},
     "output_type": "execute_result"
    }
   ],
   "source": [
    "steps"
   ]
  },
  {
   "cell_type": "code",
   "execution_count": 150,
   "id": "38ce4a39",
   "metadata": {},
   "outputs": [
    {
     "data": {
      "text/plain": [
       "array([-1,  0,  1,  2,  1,  2,  1,  0,  1,  0,  1,  2,  1,  2,  3,  2,  3,\n",
       "        4,  5,  4,  3,  2,  3,  4,  5,  4,  5,  4,  3,  4,  5,  6,  7,  8,\n",
       "        7,  8,  9, 10, 11, 12, 13, 12, 11, 12, 13, 12, 11, 12, 13, 14, 15,\n",
       "       14, 15, 16, 17, 18, 17, 18, 19, 18, 19, 18, 17, 18, 19, 20, 19, 18,\n",
       "       19, 18, 19, 18, 17, 16, 17, 18, 17, 16, 15, 14, 13, 12, 13, 12, 11,\n",
       "       10, 11, 10,  9, 10, 11, 12, 13, 14, 15, 14, 13, 12, 13, 12, 11, 12,\n",
       "       11, 12, 11, 12, 11, 10,  9, 10, 11, 10,  9, 10,  9, 10,  9,  8,  9,\n",
       "       10,  9, 10, 11, 10,  9, 10,  9,  8,  9, 10, 11, 12, 11, 10,  9, 10,\n",
       "        9, 10,  9,  8,  9, 10,  9, 10,  9, 10,  9, 10, 11, 12, 11, 12, 11,\n",
       "       10,  9, 10, 11, 10,  9,  8,  7,  6,  5,  6,  7,  8,  7,  6,  7,  6,\n",
       "        7,  6,  7,  6,  5,  6,  7,  6,  7,  8,  7,  8,  9,  8,  7,  8,  7,\n",
       "        6,  7,  8,  9, 10,  9, 10, 11, 10, 11, 12, 13, 12, 11, 10,  9,  8,\n",
       "        9, 10, 11, 10,  9, 10,  9, 10,  9, 10,  9,  8,  7,  6,  7,  6,  5,\n",
       "        6,  7,  8,  7,  6,  5,  6,  7,  6,  7,  8,  7,  8,  7,  6,  5,  4,\n",
       "        3,  4,  3,  2,  3,  4,  5,  6,  7,  6,  5,  4,  5,  4,  3,  2,  3,\n",
       "        4,  5,  6,  5,  6,  5,  6,  7,  6,  7,  8,  7,  6,  7,  6,  7,  8,\n",
       "        9,  8,  9,  8,  9,  8,  7,  6,  5,  4,  3,  2,  1,  0,  1,  0, -1,\n",
       "       -2, -1, -2, -3, -2, -1,  0,  1,  2,  3,  4,  5,  6,  7,  6,  5,  6,\n",
       "        5,  4,  3,  2,  1,  2,  3,  4,  3,  4,  5,  4,  5,  4,  5,  4,  3,\n",
       "        2,  1,  2,  3,  4,  5,  6,  5,  4,  5,  6,  5,  6,  7,  6,  5,  6,\n",
       "        5,  4,  5,  4,  3,  4,  5,  6,  5,  4,  5,  6,  7,  6,  7,  8,  7,\n",
       "        6,  5,  4,  5,  6,  7,  6,  5,  6,  7,  6,  7,  8,  9, 10, 11, 10,\n",
       "       11, 10, 11, 10,  9, 10, 11, 12, 11, 10, 11, 10, 11, 10, 11, 12, 13,\n",
       "       14, 13, 12, 11, 12, 11, 10,  9,  8,  9,  8,  7,  8,  7,  6,  7,  8,\n",
       "        9,  8,  9,  8,  9, 10, 11, 12, 13, 14, 15, 14, 13, 12, 13, 14, 15,\n",
       "       14, 15, 16, 17, 16, 15, 16, 15, 16, 17, 18, 19, 18, 19, 18, 17, 16,\n",
       "       15, 14, 13, 12, 13, 12, 13, 14, 13, 14, 13, 14, 15, 14, 13, 12, 11,\n",
       "       10, 11, 10, 11, 12, 11, 12, 11, 10, 11, 12, 11, 12, 13, 12, 13, 14,\n",
       "       13, 14, 13, 14, 15, 14, 15, 14, 13, 12, 11, 10,  9,  8,  7,  8,  7,\n",
       "        6,  5,  4,  5,  4,  3,  4,  3,  2,  3,  4,  5,  6,  5,  4,  3,  2,\n",
       "        1,  2,  1,  2,  3,  4,  3,  4,  3,  4,  5,  4,  3,  4,  3,  4,  5,\n",
       "        4,  5,  4,  3,  2,  3,  2,  1,  2,  3,  2,  1,  2,  1,  2,  1,  0,\n",
       "        1,  2,  1,  2,  1,  2,  3,  2,  1,  2,  3,  4,  5,  4,  3,  2,  3,\n",
       "        2,  1,  2,  1,  2,  3,  2,  1,  2,  3,  4,  3,  2,  3,  4,  5,  6,\n",
       "        7,  6,  5,  4,  3,  2,  1,  2,  3,  2,  1,  2,  3,  4,  5,  6,  7,\n",
       "        6,  7,  8,  7,  8,  7,  8,  9,  8,  9,  8,  7,  6,  5,  6,  5,  4,\n",
       "        3,  4,  3,  4,  5,  6,  5,  6,  7,  8,  9,  8,  9,  8,  9, 10,  9,\n",
       "       10, 11, 12, 13, 14, 13, 12, 11, 12, 11, 12, 13, 12, 13, 14, 13, 14,\n",
       "       13, 12, 13, 12, 13, 14, 15, 14, 13, 12, 11, 10,  9, 10,  9,  8,  7,\n",
       "        6,  7,  8,  7,  8,  9,  8,  9, 10,  9, 10, 11, 10, 11, 10, 11, 10,\n",
       "       11, 10,  9, 10, 11, 12, 13, 12, 13, 12, 13, 14, 15, 14, 13, 12, 13,\n",
       "       12, 11, 10, 11, 10,  9,  8,  7,  6,  7,  6,  5,  4,  5,  4,  5,  6,\n",
       "        5,  4,  5,  4,  5,  4,  3,  4,  3,  4,  3,  4,  5,  6,  7,  8,  9,\n",
       "        8,  7,  8,  9, 10, 11, 10,  9,  8,  7,  6,  7,  8,  7,  8,  7,  8,\n",
       "        7,  6,  5,  6,  5,  6,  7,  8,  7,  8,  9, 10,  9,  8,  9,  8,  9,\n",
       "       10,  9, 10,  9,  8,  9,  8,  7,  8,  9,  8,  9,  8,  9,  8,  9,  8,\n",
       "        9, 10, 11, 10, 11, 12, 11, 12, 13, 14, 15, 14, 13, 14, 15, 16, 15,\n",
       "       14, 15, 16, 17, 16, 15, 14, 13, 14, 13, 14, 13, 14, 13, 14, 13, 14,\n",
       "       15, 16, 17, 16, 17, 18, 17, 16, 17, 18, 17, 18, 17, 18, 19, 20, 19,\n",
       "       18, 19, 20, 19, 18, 17, 18, 17, 18, 19, 20, 19, 18, 17, 16, 15, 16,\n",
       "       17, 18, 19, 20, 21, 22, 21, 20, 21, 22, 21, 22, 21, 22, 21, 20, 21,\n",
       "       22, 23, 22, 23, 22, 23, 22, 21, 22, 23, 24, 23, 24, 23, 24, 25, 24,\n",
       "       25, 26, 27, 28, 29, 28, 29, 28, 27, 26, 25, 26, 27, 26, 27, 28, 27,\n",
       "       26, 27, 26, 27, 28, 27, 28, 29, 30, 31, 30, 31, 30, 29, 30, 29, 28,\n",
       "       29, 28, 29, 30, 29, 28, 27, 26, 25, 24, 23, 22, 23, 22, 23, 22, 21,\n",
       "       20, 19, 18, 17, 18, 17, 18, 19, 18, 19, 18, 17, 16, 17, 16, 17, 18,\n",
       "       17, 18, 17, 16, 15, 14, 13, 14, 15, 16, 17, 16, 17, 18, 17, 16, 15,\n",
       "       14, 13, 14, 13, 14, 13, 14, 15, 14, 13, 14, 13, 14, 15, 16, 15, 16,\n",
       "       15, 16, 15, 14, 15, 14, 13, 14, 13, 12, 13, 12, 13, 14])"
      ]
     },
     "execution_count": 150,
     "metadata": {},
     "output_type": "execute_result"
    }
   ],
   "source": [
    "walk"
   ]
  },
  {
   "cell_type": "code",
   "execution_count": 151,
   "id": "9d84da8e",
   "metadata": {},
   "outputs": [
    {
     "data": {
      "image/png": "[encoded data removed]",
      "text/plain": [
       "<Figure size 720x432 with 1 Axes>"
      ]
     },
     "metadata": {
      "needs_background": "light"
     },
     "output_type": "display_data"
    }
   ],
   "source": [
    "plt.figure()\n",
    "plt.plot(walk[:1000])\n",
    "plt.show()"
   ]
  },
  {
   "cell_type": "markdown",
   "id": "0d3b9418",
   "metadata": {},
   "source": [
    "# -------------------------------------------------------------"
   ]
  },
  {
   "cell_type": "markdown",
   "id": "90fcd9b9",
   "metadata": {},
   "source": [
    "## 처음으로 10 위치에 언제 도달했는지"
   ]
  },
  {
   "cell_type": "code",
   "execution_count": 152,
   "id": "ece404aa",
   "metadata": {},
   "outputs": [
    {
     "data": {
      "text/plain": [
       "array([False, False, False, False, False, False, False, False, False,\n",
       "       False, False, False, False, False, False, False, False, False,\n",
       "       False, False, False, False, False, False, False, False, False,\n",
       "       False, False, False, False, False, False, False, False, False,\n",
       "       False,  True,  True,  True,  True,  True,  True,  True,  True,\n",
       "        True,  True,  True,  True,  True,  True,  True,  True,  True,\n",
       "        True,  True,  True,  True,  True,  True,  True,  True,  True,\n",
       "        True,  True,  True,  True,  True,  True,  True,  True,  True,\n",
       "        True,  True,  True,  True,  True,  True,  True,  True,  True,\n",
       "        True,  True,  True,  True,  True,  True,  True, False,  True,\n",
       "        True,  True,  True,  True,  True,  True,  True,  True,  True,\n",
       "        True,  True,  True,  True,  True,  True,  True,  True,  True,\n",
       "       False,  True,  True,  True, False,  True, False,  True, False,\n",
       "       False, False,  True, False,  True,  True,  True, False,  True,\n",
       "       False, False, False,  True,  True,  True,  True,  True, False,\n",
       "        True, False,  True, False, False, False,  True, False,  True,\n",
       "       False,  True, False,  True,  True,  True,  True,  True,  True,\n",
       "        True, False,  True,  True,  True, False, False, False, False,\n",
       "       False, False, False, False, False, False, False, False, False,\n",
       "       False, False, False, False, False, False, False, False, False,\n",
       "       False, False, False, False, False, False, False, False, False,\n",
       "       False, False,  True, False,  True,  True,  True,  True,  True,\n",
       "        True,  True,  True,  True, False, False, False,  True,  True,\n",
       "        True, False,  True, False,  True, False,  True, False, False,\n",
       "       False, False, False, False, False, False, False, False, False,\n",
       "       False, False, False, False, False, False, False, False, False,\n",
       "       False, False, False, False, False, False, False, False, False,\n",
       "       False, False, False, False, False, False, False, False, False,\n",
       "       False, False, False, False, False, False, False, False, False,\n",
       "       False, False, False, False, False, False, False, False, False,\n",
       "       False, False, False, False, False, False, False, False, False,\n",
       "       False, False, False, False, False, False, False, False, False,\n",
       "       False, False, False, False, False, False, False, False, False,\n",
       "       False, False, False, False, False, False, False, False, False,\n",
       "       False, False, False, False, False, False, False, False, False,\n",
       "       False, False, False, False, False, False, False, False, False,\n",
       "       False, False, False, False, False, False, False, False, False,\n",
       "       False, False, False, False, False, False, False, False, False,\n",
       "       False, False, False, False, False, False, False, False, False,\n",
       "       False, False, False, False, False, False, False, False, False,\n",
       "       False, False, False, False, False, False, False, False, False,\n",
       "       False, False,  True,  True,  True,  True,  True,  True,  True,\n",
       "       False,  True,  True,  True,  True,  True,  True,  True,  True,\n",
       "        True,  True,  True,  True,  True,  True,  True,  True,  True,\n",
       "        True,  True, False, False, False, False, False, False, False,\n",
       "       False, False, False, False, False, False, False, False,  True,\n",
       "        True,  True,  True,  True,  True,  True,  True,  True,  True,\n",
       "        True,  True,  True,  True,  True,  True,  True,  True,  True,\n",
       "        True,  True,  True,  True,  True,  True,  True,  True,  True,\n",
       "        True,  True,  True,  True,  True,  True,  True,  True,  True,\n",
       "        True,  True,  True,  True,  True,  True,  True,  True,  True,\n",
       "        True,  True,  True,  True,  True,  True,  True,  True,  True,\n",
       "        True,  True,  True,  True,  True,  True,  True,  True,  True,\n",
       "        True,  True,  True,  True,  True,  True,  True,  True,  True,\n",
       "        True,  True, False, False, False, False, False, False, False,\n",
       "       False, False, False, False, False, False, False, False, False,\n",
       "       False, False, False, False, False, False, False, False, False,\n",
       "       False, False, False, False, False, False, False, False, False,\n",
       "       False, False, False, False, False, False, False, False, False,\n",
       "       False, False, False, False, False, False, False, False, False,\n",
       "       False, False, False, False, False, False, False, False, False,\n",
       "       False, False, False, False, False, False, False, False, False,\n",
       "       False, False, False, False, False, False, False, False, False,\n",
       "       False, False, False, False, False, False, False, False, False,\n",
       "       False, False, False, False, False, False, False, False, False,\n",
       "       False, False, False, False, False, False, False, False, False,\n",
       "       False, False, False, False, False, False, False, False, False,\n",
       "       False, False, False, False, False, False, False, False, False,\n",
       "       False, False, False, False, False, False, False, False, False,\n",
       "       False, False, False, False, False, False,  True, False,  True,\n",
       "        True,  True,  True,  True,  True,  True,  True,  True,  True,\n",
       "        True,  True,  True,  True,  True,  True,  True,  True,  True,\n",
       "        True,  True,  True,  True,  True,  True,  True,  True,  True,\n",
       "        True, False,  True, False, False, False, False, False, False,\n",
       "       False, False, False, False, False,  True, False,  True,  True,\n",
       "        True,  True,  True,  True,  True,  True,  True, False,  True,\n",
       "        True,  True,  True,  True,  True,  True,  True,  True,  True,\n",
       "        True,  True,  True,  True,  True,  True,  True,  True,  True,\n",
       "       False, False, False, False, False, False, False, False, False,\n",
       "       False, False, False, False, False, False, False, False, False,\n",
       "       False, False, False, False, False, False, False, False, False,\n",
       "       False, False, False, False, False, False,  True,  True,  True,\n",
       "       False, False, False, False, False, False, False, False, False,\n",
       "       False, False, False, False, False, False, False, False, False,\n",
       "       False, False, False,  True, False, False, False, False, False,\n",
       "        True, False,  True, False, False, False, False, False, False,\n",
       "       False, False, False, False, False, False, False, False, False,\n",
       "        True,  True,  True,  True,  True,  True,  True,  True,  True,\n",
       "        True,  True,  True,  True,  True,  True,  True,  True,  True,\n",
       "        True,  True,  True,  True,  True,  True,  True,  True,  True,\n",
       "        True,  True,  True,  True,  True,  True,  True,  True,  True,\n",
       "        True,  True,  True,  True,  True,  True,  True,  True,  True,\n",
       "        True,  True,  True,  True,  True,  True,  True,  True,  True,\n",
       "        True,  True,  True,  True,  True,  True,  True,  True,  True,\n",
       "        True,  True,  True,  True,  True,  True,  True,  True,  True,\n",
       "        True,  True,  True,  True,  True,  True,  True,  True,  True,\n",
       "        True,  True,  True,  True,  True,  True,  True,  True,  True,\n",
       "        True,  True,  True,  True,  True,  True,  True,  True,  True,\n",
       "        True,  True,  True,  True,  True,  True,  True,  True,  True,\n",
       "        True,  True,  True,  True,  True,  True,  True,  True,  True,\n",
       "        True,  True,  True,  True,  True,  True,  True,  True,  True,\n",
       "        True,  True,  True,  True,  True,  True,  True,  True,  True,\n",
       "        True,  True,  True,  True,  True,  True,  True,  True,  True,\n",
       "        True,  True,  True,  True,  True,  True,  True,  True,  True,\n",
       "        True,  True,  True,  True,  True,  True,  True,  True,  True,\n",
       "        True,  True,  True,  True,  True,  True,  True,  True,  True,\n",
       "        True,  True,  True,  True,  True,  True,  True,  True,  True,\n",
       "        True,  True,  True,  True,  True,  True,  True,  True,  True,\n",
       "        True,  True,  True,  True,  True,  True,  True,  True,  True,\n",
       "        True,  True,  True,  True,  True,  True,  True,  True,  True,\n",
       "        True,  True,  True,  True,  True,  True,  True,  True,  True,\n",
       "        True])"
      ]
     },
     "execution_count": 152,
     "metadata": {},
     "output_type": "execute_result"
    }
   ],
   "source": [
    "np.abs(walk) >= 10"
   ]
  },
  {
   "cell_type": "code",
   "execution_count": 153,
   "id": "ec6f5521",
   "metadata": {},
   "outputs": [
    {
     "data": {
      "text/plain": [
       "37"
      ]
     },
     "execution_count": 153,
     "metadata": {},
     "output_type": "execute_result"
    }
   ],
   "source": [
    "(np.abs(walk) >= 10).argmax() #처음으로 도달했는 값"
   ]
  },
  {
   "cell_type": "markdown",
   "id": "2a7f310f",
   "metadata": {},
   "source": [
    "# Simulating Many Random Walks at Once"
   ]
  },
  {
   "cell_type": "markdown",
   "id": "967f40ac",
   "metadata": {},
   "source": [
    "1000 steps를 진행하는 Random walker를 5000명을 만들기"
   ]
  },
  {
   "cell_type": "code",
   "execution_count": 154,
   "id": "6febe383",
   "metadata": {},
   "outputs": [
    {
     "data": {
      "text/plain": [
       "array([-1,  1,  1,  1, -1,  1, -1, -1,  1, -1,  1,  1, -1,  1,  1, -1,  1,\n",
       "        1,  1, -1, -1, -1,  1,  1,  1, -1,  1, -1, -1,  1,  1,  1,  1,  1,\n",
       "       -1,  1,  1,  1,  1,  1,  1, -1, -1,  1,  1, -1, -1,  1,  1,  1,  1,\n",
       "       -1,  1,  1,  1,  1, -1,  1,  1, -1,  1, -1, -1,  1,  1,  1, -1, -1,\n",
       "        1, -1,  1, -1, -1, -1,  1,  1, -1, -1, -1, -1, -1, -1,  1, -1, -1,\n",
       "       -1,  1, -1, -1,  1,  1,  1,  1,  1,  1, -1, -1, -1,  1, -1, -1,  1,\n",
       "       -1,  1, -1,  1, -1, -1, -1,  1,  1, -1, -1,  1, -1,  1, -1, -1,  1,\n",
       "        1, -1,  1,  1, -1, -1,  1, -1, -1,  1,  1,  1,  1, -1, -1, -1,  1,\n",
       "       -1,  1, -1, -1,  1,  1, -1,  1, -1,  1, -1,  1,  1,  1, -1,  1, -1,\n",
       "       -1, -1,  1,  1, -1, -1, -1, -1, -1, -1,  1,  1,  1, -1, -1,  1, -1,\n",
       "        1, -1,  1, -1, -1,  1,  1, -1,  1,  1, -1,  1,  1, -1, -1,  1, -1,\n",
       "       -1,  1,  1,  1,  1, -1,  1,  1, -1,  1,  1,  1, -1, -1, -1, -1, -1,\n",
       "        1,  1,  1, -1, -1,  1, -1,  1, -1,  1, -1, -1, -1, -1,  1, -1, -1,\n",
       "        1,  1,  1, -1, -1, -1,  1,  1, -1,  1,  1, -1,  1, -1, -1, -1, -1,\n",
       "       -1,  1, -1, -1,  1,  1,  1,  1,  1, -1, -1, -1,  1, -1, -1, -1,  1,\n",
       "        1,  1,  1, -1,  1, -1,  1,  1, -1,  1,  1, -1, -1,  1, -1,  1,  1,\n",
       "        1, -1,  1, -1,  1, -1, -1, -1, -1, -1, -1, -1, -1, -1,  1, -1, -1,\n",
       "       -1,  1, -1, -1,  1,  1,  1,  1,  1,  1,  1,  1,  1,  1, -1, -1,  1,\n",
       "       -1, -1, -1, -1, -1,  1,  1,  1, -1,  1,  1, -1,  1, -1,  1, -1, -1,\n",
       "       -1, -1,  1,  1,  1,  1,  1, -1, -1,  1,  1, -1,  1,  1, -1, -1,  1,\n",
       "       -1, -1,  1, -1, -1,  1,  1,  1, -1, -1,  1,  1,  1, -1,  1,  1, -1,\n",
       "       -1, -1, -1,  1,  1,  1, -1, -1,  1,  1, -1,  1,  1,  1,  1,  1, -1,\n",
       "        1, -1,  1, -1, -1,  1,  1,  1, -1, -1,  1, -1,  1, -1,  1,  1,  1,\n",
       "        1, -1, -1, -1,  1, -1, -1, -1, -1,  1, -1, -1,  1, -1, -1,  1,  1,\n",
       "        1, -1,  1, -1,  1,  1,  1,  1,  1,  1,  1, -1, -1, -1,  1,  1,  1,\n",
       "       -1,  1,  1,  1, -1, -1,  1, -1,  1,  1,  1,  1, -1,  1, -1, -1, -1,\n",
       "       -1, -1, -1, -1,  1, -1,  1,  1, -1,  1, -1,  1,  1, -1, -1, -1, -1,\n",
       "       -1,  1, -1,  1,  1, -1,  1, -1, -1,  1,  1, -1,  1,  1, -1,  1,  1,\n",
       "       -1,  1, -1,  1,  1, -1,  1, -1, -1, -1, -1, -1, -1, -1, -1,  1, -1,\n",
       "       -1, -1, -1,  1, -1, -1,  1, -1, -1,  1,  1,  1,  1, -1, -1, -1, -1,\n",
       "       -1,  1, -1,  1,  1,  1, -1,  1, -1,  1,  1, -1, -1,  1, -1,  1,  1,\n",
       "       -1,  1, -1, -1, -1,  1, -1, -1,  1,  1, -1, -1,  1, -1,  1, -1, -1,\n",
       "        1,  1, -1,  1, -1,  1,  1, -1, -1,  1,  1,  1,  1, -1, -1, -1,  1,\n",
       "       -1, -1,  1, -1,  1,  1, -1, -1,  1,  1,  1, -1, -1,  1,  1,  1,  1,\n",
       "        1, -1, -1, -1, -1, -1, -1,  1,  1, -1, -1,  1,  1,  1,  1,  1,  1,\n",
       "       -1,  1,  1, -1,  1, -1,  1,  1, -1,  1, -1, -1, -1, -1,  1, -1, -1,\n",
       "       -1,  1, -1,  1,  1,  1, -1,  1,  1,  1,  1, -1,  1, -1,  1,  1, -1,\n",
       "        1,  1,  1,  1,  1, -1, -1, -1,  1, -1,  1,  1, -1,  1,  1, -1,  1,\n",
       "       -1, -1,  1, -1,  1,  1,  1, -1, -1, -1, -1, -1, -1,  1, -1, -1, -1,\n",
       "       -1,  1,  1, -1,  1,  1, -1,  1,  1, -1,  1,  1, -1,  1, -1,  1, -1,\n",
       "        1, -1, -1,  1,  1,  1,  1, -1,  1, -1,  1,  1,  1, -1, -1, -1,  1,\n",
       "       -1, -1, -1,  1, -1, -1, -1, -1, -1,  1, -1, -1, -1,  1, -1,  1,  1,\n",
       "       -1, -1,  1, -1,  1, -1, -1,  1, -1,  1, -1,  1,  1,  1,  1,  1,  1,\n",
       "       -1, -1,  1,  1,  1,  1, -1, -1, -1, -1, -1,  1,  1, -1,  1, -1,  1,\n",
       "       -1, -1, -1,  1, -1,  1,  1,  1, -1,  1,  1,  1, -1, -1,  1, -1,  1,\n",
       "        1, -1,  1, -1, -1,  1, -1, -1,  1,  1, -1,  1, -1,  1, -1,  1, -1,\n",
       "        1,  1,  1, -1,  1,  1, -1,  1,  1,  1,  1, -1, -1,  1,  1,  1, -1,\n",
       "       -1,  1,  1,  1, -1, -1, -1, -1,  1, -1,  1, -1,  1, -1,  1, -1,  1,\n",
       "        1,  1,  1, -1,  1,  1, -1, -1,  1,  1, -1,  1, -1,  1,  1,  1, -1,\n",
       "       -1,  1,  1, -1, -1, -1,  1, -1,  1,  1,  1, -1, -1, -1, -1, -1,  1,\n",
       "        1,  1,  1,  1,  1,  1, -1, -1,  1,  1, -1,  1, -1,  1, -1, -1,  1,\n",
       "        1,  1, -1,  1, -1,  1, -1, -1,  1,  1,  1, -1,  1, -1,  1,  1, -1,\n",
       "        1,  1,  1,  1,  1, -1,  1, -1, -1, -1, -1,  1,  1, -1,  1,  1, -1,\n",
       "       -1,  1, -1,  1,  1, -1,  1,  1,  1,  1, -1,  1, -1, -1,  1, -1, -1,\n",
       "        1, -1,  1,  1, -1, -1, -1, -1, -1, -1, -1, -1,  1, -1,  1, -1, -1,\n",
       "       -1, -1, -1, -1,  1, -1,  1,  1, -1,  1, -1, -1, -1,  1, -1,  1,  1,\n",
       "       -1,  1, -1, -1, -1, -1, -1,  1,  1,  1,  1, -1,  1,  1, -1, -1, -1,\n",
       "       -1, -1,  1, -1,  1, -1,  1,  1, -1, -1,  1, -1,  1,  1,  1, -1,  1,\n",
       "       -1,  1, -1, -1,  1, -1, -1,  1, -1, -1,  1, -1,  1,  1])"
      ]
     },
     "execution_count": 154,
     "metadata": {},
     "output_type": "execute_result"
    }
   ],
   "source": [
    "steps"
   ]
  },
  {
   "cell_type": "code",
   "execution_count": 155,
   "id": "d0e43e41",
   "metadata": {},
   "outputs": [
    {
     "data": {
      "text/plain": [
       "(1000,)"
      ]
     },
     "execution_count": 155,
     "metadata": {},
     "output_type": "execute_result"
    }
   ],
   "source": [
    "steps.shape"
   ]
  },
  {
   "cell_type": "code",
   "execution_count": 156,
   "id": "6f494887",
   "metadata": {},
   "outputs": [
    {
     "data": {
      "text/plain": [
       "array([[  1,   0,   1, ...,   8,   7,   8],\n",
       "       [  1,   0,  -1, ...,  34,  33,  32],\n",
       "       [  1,   0,  -1, ...,   4,   5,   4],\n",
       "       ...,\n",
       "       [  1,   2,   1, ...,  24,  25,  26],\n",
       "       [  1,   2,   3, ...,  14,  13,  14],\n",
       "       [ -1,  -2,  -3, ..., -24, -23, -22]])"
      ]
     },
     "execution_count": 156,
     "metadata": {},
     "output_type": "execute_result"
    }
   ],
   "source": [
    "nwalks = 5000\n",
    "nsteps = 1000\n",
    "draws = np.random.randint(0, 2, size=(nwalks, nsteps)) # 0 or 1\n",
    "steps = np.where(draws > 0, 1, -1)\n",
    "walks = steps.cumsum(axis = 1)\n",
    "walks"
   ]
  },
  {
   "cell_type": "code",
   "execution_count": 157,
   "id": "3df6383d",
   "metadata": {},
   "outputs": [
    {
     "data": {
      "text/plain": [
       "138"
      ]
     },
     "execution_count": 157,
     "metadata": {},
     "output_type": "execute_result"
    }
   ],
   "source": [
    "walks.max()"
   ]
  },
  {
   "cell_type": "code",
   "execution_count": 158,
   "id": "83f2de85",
   "metadata": {},
   "outputs": [
    {
     "data": {
      "text/plain": [
       "-133"
      ]
     },
     "execution_count": 158,
     "metadata": {},
     "output_type": "execute_result"
    }
   ],
   "source": [
    "walks.min()"
   ]
  },
  {
   "cell_type": "code",
   "execution_count": 159,
   "id": "1d86eb76",
   "metadata": {},
   "outputs": [
    {
     "data": {
      "text/plain": [
       "array([False,  True, False, ..., False,  True, False])"
      ]
     },
     "execution_count": 159,
     "metadata": {},
     "output_type": "execute_result"
    }
   ],
   "source": [
    "(np.abs(walks) >= 30).any(axis=1)"
   ]
  },
  {
   "cell_type": "code",
   "execution_count": 160,
   "id": "fb30d24d",
   "metadata": {},
   "outputs": [
    {
     "data": {
      "text/plain": [
       "(5000,)"
      ]
     },
     "execution_count": 160,
     "metadata": {},
     "output_type": "execute_result"
    }
   ],
   "source": [
    "(np.abs(walks) >= 30).any(axis=1).shape"
   ]
  },
  {
   "cell_type": "code",
   "execution_count": 161,
   "id": "4d2aebc0",
   "metadata": {},
   "outputs": [
    {
     "data": {
      "text/plain": [
       "3410"
      ]
     },
     "execution_count": 161,
     "metadata": {},
     "output_type": "execute_result"
    }
   ],
   "source": [
    "hits30 = (np.abs(walks) >= 30).any(1)\n",
    "hits30\n",
    "hits30.sum() # Number that hit 30 or -30"
   ]
  },
  {
   "cell_type": "code",
   "execution_count": 162,
   "id": "b9ba8721",
   "metadata": {},
   "outputs": [
    {
     "data": {
      "text/plain": [
       "498.8897360703812"
      ]
     },
     "execution_count": 162,
     "metadata": {},
     "output_type": "execute_result"
    }
   ],
   "source": [
    "crossing_times = (np.abs(walks[hits30]) >= 30).argmax(1)\n",
    "crossing_times.mean()\n",
    "\n",
    "#언제 30을 찍었냐는 뜻을 물어봄"
   ]
  },
  {
   "cell_type": "code",
   "execution_count": 163,
   "id": "831243e4",
   "metadata": {},
   "outputs": [
    {
     "data": {
      "text/plain": [
       "51"
      ]
     },
     "execution_count": 163,
     "metadata": {},
     "output_type": "execute_result"
    }
   ],
   "source": [
    "crossing_times.min()"
   ]
  },
  {
   "cell_type": "code",
   "execution_count": 164,
   "id": "2ada63c0",
   "metadata": {},
   "outputs": [
    {
     "data": {
      "text/plain": [
       "array([[-0.0257,  0.3631,  0.4172, ...,  0.1573, -0.1626,  0.0542],\n",
       "       [-0.1046,  0.0788,  0.1911, ...,  0.0768, -0.1855,  0.0333],\n",
       "       [-0.1673,  0.1203, -0.3043, ..., -0.3098, -0.1729,  0.0277],\n",
       "       ...,\n",
       "       [ 0.2799,  0.0548, -0.0217, ...,  0.028 ,  0.2527,  0.0651],\n",
       "       [ 0.3185, -0.1511, -0.1121, ...,  0.1471,  0.1821, -0.0247],\n",
       "       [-0.131 , -0.2401, -0.0393, ..., -0.1832, -0.2097,  0.2071]])"
      ]
     },
     "execution_count": 164,
     "metadata": {},
     "output_type": "execute_result"
    }
   ],
   "source": [
    "steps = np.random.normal(loc=0, scale=0.25,\n",
    "                         size=(nwalks, nsteps))\n",
    "steps"
   ]
  },
  {
   "cell_type": "markdown",
   "id": "da87bff6",
   "metadata": {},
   "source": [
    "# Concluse"
   ]
  }
 ],
 "metadata": {
  "interpreter": {
   "hash": "1486d7e90339fae6c5b3e5484bedca569f2c9cafabf4c8b3bf849689424eb737"
  },
  "kernelspec": {
   "display_name": "Python 3 (ipykernel)",
   "language": "python",
   "name": "python3"
  },
  "language_info": {
   "codemirror_mode": {
    "name": "ipython",
    "version": 3
   },
   "file_extension": ".py",
   "mimetype": "text/x-python",
   "name": "python",
   "nbconvert_exporter": "python",
   "pygments_lexer": "ipython3",
   "version": "3.7.0"
  }
 },
 "nbformat": 4,
 "nbformat_minor": 5
}
